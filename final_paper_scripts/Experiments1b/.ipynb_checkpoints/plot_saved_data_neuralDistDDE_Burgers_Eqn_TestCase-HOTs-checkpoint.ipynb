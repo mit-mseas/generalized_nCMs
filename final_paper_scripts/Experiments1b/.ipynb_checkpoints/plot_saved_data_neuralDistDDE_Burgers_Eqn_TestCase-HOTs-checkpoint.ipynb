{
 "cells": [
  {
   "cell_type": "code",
   "execution_count": 1,
   "metadata": {
    "executionInfo": {
     "elapsed": 473,
     "status": "ok",
     "timestamp": 1601157808403,
     "user": {
      "displayName": "Abhinav Gupta",
      "photoUrl": "https://lh3.googleusercontent.com/a-/AOh14GgMtMT5ccMf8GLgQ3yu6fAY2d6upCEZXfzS-5A6Cg=s64",
      "userId": "02552889854388316189"
     },
     "user_tz": 240
    },
    "id": "mgv1axkGNvut"
   },
   "outputs": [],
   "source": [
    "basedir = '/home/abhinavgupta0110/generalized_nCM'\n",
    "\n",
    "import os\n",
    "\n",
    "is_google_colab = False\n",
    "is_use_GPU = False"
   ]
  },
  {
   "cell_type": "markdown",
   "metadata": {
    "id": "Jq_2LQ9UHud0"
   },
   "source": [
    "### Mount the Google drive if needed"
   ]
  },
  {
   "cell_type": "code",
   "execution_count": 2,
   "metadata": {
    "colab": {
     "base_uri": "https://localhost:8080/",
     "height": 527
    },
    "executionInfo": {
     "elapsed": 3215,
     "status": "ok",
     "timestamp": 1601157811162,
     "user": {
      "displayName": "Abhinav Gupta",
      "photoUrl": "https://lh3.googleusercontent.com/a-/AOh14GgMtMT5ccMf8GLgQ3yu6fAY2d6upCEZXfzS-5A6Cg=s64",
      "userId": "02552889854388316189"
     },
     "user_tz": 240
    },
    "id": "IMm0YJf40nu4",
    "outputId": "9bbe83de-ba06-439f-c578-dc21947bab04"
   },
   "outputs": [],
   "source": [
    "if is_use_GPU:\n",
    "    gpu_info = !nvidia-smi\n",
    "    gpu_info = '\\n'.join(gpu_info)\n",
    "    if gpu_info.find('failed') >= 0:\n",
    "        print('No GPU found!')\n",
    "    else:\n",
    "        print(gpu_info)\n",
    "\n",
    "if is_google_colab:\n",
    "    from google.colab import drive\n",
    "    drive.mount('/content/drive')\n",
    "\n",
    "    %pip install quadpy\n",
    "    \n",
    "os.chdir(os.path.join(basedir, 'generalized_nCMs'))\n",
    "\n",
    "%load_ext autoreload"
   ]
  },
  {
   "cell_type": "markdown",
   "metadata": {
    "id": "4Ypp2-6vHzUD"
   },
   "source": [
    "### Load modules"
   ]
  },
  {
   "cell_type": "code",
   "execution_count": 3,
   "metadata": {
    "executionInfo": {
     "elapsed": 6324,
     "status": "ok",
     "timestamp": 1601157814287,
     "user": {
      "displayName": "Abhinav Gupta",
      "photoUrl": "https://lh3.googleusercontent.com/a-/AOh14GgMtMT5ccMf8GLgQ3yu6fAY2d6upCEZXfzS-5A6Cg=s64",
      "userId": "02552889854388316189"
     },
     "user_tz": 240
    },
    "id": "-MrPJTQD3Xz4"
   },
   "outputs": [
    {
     "name": "stdout",
     "output_type": "stream",
     "text": [
      "2.5.0\n"
     ]
    }
   ],
   "source": [
    "%autoreload 2\n",
    "\n",
    "from src.utilities.DDE_Solver import ddeinttf \n",
    "from src.utilities.helper_classes import * \n",
    "import src.solvers.neuralDistDDE_train_HOTs as ncm\n",
    "import src.burgers_eqn_case_findiff.burgers_eqn as burg\n",
    "from src.burgers_eqn_case_findiff.burgers_eqn_helper_classes import * \n",
    "\n",
    "import time\n",
    "import sys\n",
    "from IPython.core.debugger import set_trace\n",
    "\n",
    "import numpy as np\n",
    "import scipy as spy\n",
    "import tensorflow as tf\n",
    "import matplotlib.pyplot as plt\n",
    "from matplotlib import cm\n",
    "from shutil import move\n",
    "import pickle\n",
    "\n",
    "print(tf.__version__)\n",
    "\n",
    "tf.keras.backend.set_floatx('float32')\n",
    "import logging\n",
    "tf.get_logger().setLevel(logging.ERROR)"
   ]
  },
  {
   "cell_type": "markdown",
   "metadata": {
    "id": "B6M2Jp_VH7k_"
   },
   "source": [
    "## Define some useful classes"
   ]
  },
  {
   "cell_type": "markdown",
   "metadata": {
    "id": "sAACaFzjH8tF"
   },
   "source": [
    "### Class for user-defined arguments"
   ]
  },
  {
   "cell_type": "code",
   "execution_count": 4,
   "metadata": {
    "executionInfo": {
     "elapsed": 6307,
     "status": "ok",
     "timestamp": 1601157814291,
     "user": {
      "displayName": "Abhinav Gupta",
      "photoUrl": "https://lh3.googleusercontent.com/a-/AOh14GgMtMT5ccMf8GLgQ3yu6fAY2d6upCEZXfzS-5A6Cg=s64",
      "userId": "02552889854388316189"
     },
     "user_tz": 240
    },
    "id": "SuiPlZi330MR"
   },
   "outputs": [],
   "source": [
    "class burg_ncm_args(ncm.ncm_arguments, burg.burg_args):\n",
    "\n",
    "    def __init__(self, batch_time = 12, batch_time_skip = 2, batch_size = 5, epochs = 500, learning_rate = 0.05, \n",
    "                 decay_rate = 0.95, test_freq = 1, plot_freq = 2, \n",
    "                 tau_max = 1.1, tau = 0.2,\n",
    "                 model_dir = 'ROM_nDistDDE_testcase/model_dir_test', restart = 0, val_percentage = 0.2,\n",
    "                 T = 2., nt = 200, \n",
    "                 train_ens_size = 1, x_left = [0.], x_right = [1.], nx_train_hf = [100], nx_train_lf = [25], Re = [250], \n",
    "                 dleft_bv_dt = [0.], dright_bv_dt = [0.], dbc_l = [1], nbc_l = [0], dbc_r = [1], nbc_r = [0],\n",
    "                 isplot = True, is_tstart_zero = True, \n",
    "                 ode_alg_name = 'dopri5', nsteps = 1, ens_to_plot = -1, read_hf_data = 0, read_hf_data_fac = 4, \n",
    "                 use_analytical_sol = 0, lambda_l1_mark = 0., lambda_l2_mark = 0., \n",
    "                 lambda_l1_non_mark = 0., lambda_l2_non_mark = 0., prune_thres = 0., mse_weight = 0., max_deriv = 2,\n",
    "                 acc = 2, acc_advec = 1, norm_Re = 1000, norm_nx = 50): # add more arguments as needed\n",
    "        \n",
    "        ncm.ncm_arguments.__init__(self, data_size = nt, batch_time = batch_time, batch_time_skip = batch_time_skip, batch_size = batch_size, epochs = epochs,\n",
    "                           learning_rate = learning_rate, decay_rate = decay_rate, test_freq = test_freq, plot_freq = plot_freq, \n",
    "                           tau_max = tau_max, tau = tau, model_dir = model_dir, restart = restart, val_percentage = val_percentage, \n",
    "                           isplot = isplot, is_tstart_zero = is_tstart_zero)\n",
    "        \n",
    "        self.args_train_hf = []\n",
    "        for i in range(train_ens_size):\n",
    "            self.args_train_hf.append(burg.burg_args(T = T, nt = nt, x_left = x_left[i], x_right = x_right[i], Nx = nx_train_hf[i], Re = Re[i], \n",
    "                                         dleft_bv_dt = dleft_bv_dt[i], dright_bv_dt = dright_bv_dt[i], dbc_l = dbc_l[i], \n",
    "                                         nbc_l = nbc_l[i], dbc_r = dbc_r[i], nbc_r = nbc_r[i], max_deriv = max_deriv, \n",
    "                                         acc = acc, acc_advec = acc_advec))\n",
    "            \n",
    "        self.args_train_lf = []\n",
    "        for i in range(train_ens_size):\n",
    "            self.args_train_lf.append(burg.burg_args(T = T, nt = nt, x_left = x_left[i], x_right = x_right[i], Nx = nx_train_lf[i], Re = Re[i], \n",
    "                                         dleft_bv_dt = dleft_bv_dt[i], dright_bv_dt = dright_bv_dt[i], dbc_l = dbc_l[i], \n",
    "                                         nbc_l = nbc_l[i], dbc_r = dbc_r[i], nbc_r = nbc_r[i], max_deriv = max_deriv,\n",
    "                                         acc = acc, acc_advec = acc_advec))\n",
    "        \n",
    "        self.train_ens_size = train_ens_size\n",
    "        i = ens_to_plot\n",
    "        self.args_eval_hf = burg.burg_args(T = T, nt = nt, x_left = x_left[i], x_right = x_right[i], Nx = nx_train_hf[i], Re = Re[i], \n",
    "                                         dleft_bv_dt = dleft_bv_dt[i], dright_bv_dt = dright_bv_dt[i], dbc_l = dbc_l[i], \n",
    "                                         nbc_l = nbc_l[i], dbc_r = dbc_r[i], nbc_r = nbc_r[i], max_deriv = max_deriv,\n",
    "                                         acc = acc, acc_advec = acc_advec)\n",
    "        self.args_eval_lf = burg.burg_args(T = T, nt = nt, x_left = x_left[i], x_right = x_right[i], Nx = nx_train_lf[i], Re = Re[i], \n",
    "                                         dleft_bv_dt = dleft_bv_dt[i], dright_bv_dt = dright_bv_dt[i], dbc_l = dbc_l[i], \n",
    "                                         nbc_l = nbc_l[i], dbc_r = dbc_r[i], nbc_r = nbc_r[i], max_deriv = max_deriv,\n",
    "                                         acc = acc, acc_advec = acc_advec)\n",
    "        \n",
    "        self.args_norm = burg.burg_args(T = T, nt = nt, x_left = x_left[i], x_right = x_right[i], Nx = norm_nx, Re = norm_Re, \n",
    "                                         dleft_bv_dt = dleft_bv_dt[i], dright_bv_dt = dright_bv_dt[i], dbc_l = dbc_l[i], \n",
    "                                         nbc_l = nbc_l[i], dbc_r = dbc_r[i], nbc_r = nbc_r[i], max_deriv = max_deriv,\n",
    "                                         acc = acc, acc_advec = acc_advec)\n",
    "        \n",
    "        self.ode_alg_name = ode_alg_name\n",
    "        self.nsteps = nsteps\n",
    "        self.read_hf_data = read_hf_data\n",
    "        self.read_hf_data_fac = read_hf_data_fac\n",
    "        self.use_analytical_sol = use_analytical_sol\n",
    "        \n",
    "        self.lambda_l1_mark = lambda_l1_mark\n",
    "        self.lambda_l2_mark = lambda_l2_mark\n",
    "        self.lambda_l1_non_mark = lambda_l1_non_mark\n",
    "        self.lambda_l2_non_mark = lambda_l2_non_mark\n",
    "        self.prune_thres = prune_thres\n",
    "        self.mse_weight = mse_weight"
   ]
  },
  {
   "cell_type": "markdown",
   "metadata": {
    "id": "Bgp85pBOIHjP"
   },
   "source": [
    "### Define the neural net architecture"
   ]
  },
  {
   "cell_type": "markdown",
   "metadata": {
    "id": "55JqC28YIS6c"
   },
   "source": [
    "### Initialize model related parameters"
   ]
  },
  {
   "cell_type": "code",
   "execution_count": 5,
   "metadata": {
    "executionInfo": {
     "elapsed": 6247,
     "status": "ok",
     "timestamp": 1601157814295,
     "user": {
      "displayName": "Abhinav Gupta",
      "photoUrl": "https://lh3.googleusercontent.com/a-/AOh14GgMtMT5ccMf8GLgQ3yu6fAY2d6upCEZXfzS-5A6Cg=s64",
      "userId": "02552889854388316189"
     },
     "user_tz": 240
    },
    "id": "AYlTE72b4PE2"
   },
   "outputs": [],
   "source": [
    "args = burg_ncm_args(batch_time = 6*5, batch_time_skip = 6, batch_size = 1, epochs = 75, learning_rate = 0.025, \n",
    "                 decay_rate = 0.99, test_freq = 1, plot_freq = 1, tau_max = 0.5, tau = 0.075,\n",
    "                 model_dir = 'burgers_testcase_nDistDDE_v2/model_dir_case5f', restart = 0, val_percentage = 1.0,\n",
    "                 T = 4.0, nt = 400, train_ens_size = 1, x_left = [0.], x_right = [1.], \n",
    "                 nx_train_hf = [1000], nx_train_lf = [50], Re = [1000], \n",
    "                 dleft_bv_dt = [0.], dright_bv_dt = [0.], dbc_l = [1], nbc_l = [0], dbc_r = [1], \n",
    "                 nbc_r = [0], isplot = True, is_tstart_zero = True, \n",
    "                 ode_alg_name = 'vode', nsteps = 100, ens_to_plot = -1, read_hf_data = 0, read_hf_data_fac = 4, \n",
    "                 use_analytical_sol = 0, lambda_l1_mark = 1e-6, lambda_l2_mark = 1e-6, \n",
    "                 prune_thres = 5e-3, mse_weight = 0.1, max_deriv = 2,\n",
    "                 acc = 4, acc_advec = 1, norm_Re = 1000, norm_nx = 100)"
   ]
  },
  {
   "cell_type": "code",
   "execution_count": 6,
   "metadata": {},
   "outputs": [],
   "source": [
    "testcase_dir = 'generalized_nCMs/testcases/burgers_eqn_findiff'\n",
    "save_dir_obj = save_dir(args = args, basedir = basedir, testcase_dir = testcase_dir)"
   ]
  },
  {
   "cell_type": "code",
   "execution_count": 7,
   "metadata": {},
   "outputs": [],
   "source": [
    "os.chdir(basedir)\n",
    "    \n",
    "with open(os.path.join('generalized_nCMs/final_paper_scripts/Experiments1b', 'burgers_testcase_nDistDDE_v2_C5f_DBC_Nx50_Re1000_L1.pkl'), 'rb') as output:\n",
    "    nDDE_dict = pickle.load(output)"
   ]
  },
  {
   "cell_type": "code",
   "execution_count": 8,
   "metadata": {},
   "outputs": [],
   "source": [
    "t = nDDE_dict['t']\n",
    "true_u_low_res = nDDE_dict['true_u_low_res']\n",
    "val_true_u_low_res = nDDE_dict['val_true_u_low_res']\n",
    "u_low_res = nDDE_dict['u_low_res']\n",
    "val_u_low_res = nDDE_dict['val_u_low_res']\n",
    "pred_zy = nDDE_dict['pred_zy']\n",
    "val_t = nDDE_dict['val_t']\n",
    "x = nDDE_dict['x']"
   ]
  },
  {
   "cell_type": "markdown",
   "metadata": {},
   "source": [
    "### Run Setup"
   ]
  },
  {
   "cell_type": "code",
   "execution_count": 25,
   "metadata": {},
   "outputs": [],
   "source": [
    "### Define a custom plotting function\n",
    "class custom_plot:\n",
    "\n",
    "    def __init__(self, true_y, y_no_nn, x, t, args):\n",
    "        self.true_y = true_y\n",
    "        self.y_no_nn = y_no_nn\n",
    "        self.t = t\n",
    "        self.args = args\n",
    "        self.X, self.T = np.meshgrid(x.numpy(), t.numpy())\n",
    "        self.x = x \n",
    "            \n",
    "    def plot(self, *pred_y, epoch = 0):\n",
    "        fig = plt.figure(figsize=(14, 4.5), facecolor='white')\n",
    "        ax_u_nn = fig.add_subplot(121)\n",
    "        ax_u_diff_nn = fig.add_subplot(122)\n",
    "        \n",
    "        ax_u_nn.cla()\n",
    "        ax_u_nn.set_title('Low-Res with nCM Solution', fontsize=18)\n",
    "        ax_u_nn.set_xlabel('x', fontsize=18)\n",
    "        ax_u_nn.set_ylabel('t', fontsize=18)\n",
    "        plot = ax_u_nn.contourf(self.X, self.T, tf.squeeze(pred_y[0][:, :, 0:self.args.state_dim], axis=1).numpy(), cmap=cm.coolwarm,\n",
    "                           antialiased=False, levels=np.linspace(0, 0.5, 40), extend='min')\n",
    "        ax_u_nn.set_xlim(self.x[0], self.x[-1])\n",
    "        ax_u_nn.set_ylim(self.t[0], self.t[-1])\n",
    "        cb = plt.colorbar(plot, ax=ax_u_nn, shrink=0.5, aspect=10, format='%.2f', spacing='proportional', ticks=np.linspace(0, 0.5, 5))\n",
    "        cb.ax.tick_params(labelsize=16)\n",
    "        ax_u_nn.tick_params(axis='x', labelsize=16)\n",
    "        ax_u_nn.tick_params(axis='y', labelsize=16)\n",
    "\n",
    "        ax_u_diff_nn.cla()\n",
    "        ax_u_diff_nn.set_title('|Difference|', fontsize=18)\n",
    "        ax_u_diff_nn.set_xlabel('x', fontsize=18)\n",
    "        ax_u_diff_nn.set_ylabel('t', fontsize=18)\n",
    "        plot = ax_u_diff_nn.contourf(self.X, self.T, tf.abs(tf.squeeze(self.true_y - pred_y[0][:, :, 0:self.args.state_dim], axis=1)).numpy(), cmap=plt.get_cmap('coolwarm'),\n",
    "                            antialiased=False, levels=np.linspace(0, 0.5, 40))\n",
    "        ax_u_diff_nn.set_xlim(self.x[0], self.x[-1])\n",
    "        ax_u_diff_nn.set_ylim(self.t[0], self.t[-1])\n",
    "        cb = plt.colorbar(plot, ax=ax_u_diff_nn, shrink=0.5, aspect=10, format='%.2f', spacing='proportional', ticks=np.linspace(0, 0.5, 5))\n",
    "        cb.ax.tick_params(labelsize=16)\n",
    "        ax_u_diff_nn.tick_params(axis='x', labelsize=16)\n",
    "        ax_u_diff_nn.tick_params(axis='y', labelsize=16)\n",
    "\n",
    "        plt.show()\n",
    "        \n",
    "    def plot_baseline(self):\n",
    "        fig = plt.figure(figsize=(14, 4.5), facecolor='white')\n",
    "        ax_u_nn = fig.add_subplot(121)\n",
    "        ax_u_diff_nn = fig.add_subplot(122)\n",
    "        \n",
    "        ax_u_nn.cla()\n",
    "        ax_u_nn.set_title('Low-Res Solution', fontsize=18)\n",
    "        ax_u_nn.set_xlabel('x', fontsize=18)\n",
    "        ax_u_nn.set_ylabel('t', fontsize=18)\n",
    "        plot = ax_u_nn.contourf(self.X, self.T, tf.squeeze(self.y_no_nn[:, :, 0:self.args.state_dim], axis=1).numpy(), cmap=cm.coolwarm,\n",
    "                           antialiased=False, levels=np.linspace(0, 0.5, 40), extend='min')\n",
    "        ax_u_nn.set_xlim(self.x[0], self.x[-1])\n",
    "        ax_u_nn.set_ylim(self.t[0], self.t[-1])\n",
    "        cb = plt.colorbar(plot, ax=ax_u_nn, shrink=0.5, aspect=10, format='%.2f', spacing='proportional', ticks=np.linspace(0, 0.5, 5))\n",
    "        cb.ax.tick_params(labelsize=16)\n",
    "        ax_u_nn.tick_params(axis='x', labelsize=16)\n",
    "        ax_u_nn.tick_params(axis='y', labelsize=16)\n",
    "\n",
    "        ax_u_diff_nn.cla()\n",
    "        ax_u_diff_nn.set_title('|Difference|', fontsize=18)\n",
    "        ax_u_diff_nn.set_xlabel('x', fontsize=18)\n",
    "        ax_u_diff_nn.set_ylabel('t', fontsize=18)\n",
    "        plot = ax_u_diff_nn.contourf(self.X, self.T, tf.abs(tf.squeeze(self.true_y - self.y_no_nn[:, :, 0:self.args.state_dim], axis=1)).numpy(), cmap=plt.get_cmap('coolwarm'),\n",
    "                            antialiased=False, levels=np.linspace(0, 0.5, 40))\n",
    "        ax_u_diff_nn.set_xlim(self.x[0], self.x[-1])\n",
    "        ax_u_diff_nn.set_ylim(self.t[0], self.t[-1])\n",
    "        cb = plt.colorbar(plot, ax=ax_u_diff_nn, shrink=0.5, aspect=10, format='%.2f', spacing='proportional', ticks=np.linspace(0, 0.5, 5))\n",
    "        cb.ax.tick_params(labelsize=16)\n",
    "        ax_u_diff_nn.tick_params(axis='x', labelsize=16)\n",
    "        ax_u_diff_nn.tick_params(axis='y', labelsize=16)\n",
    "\n",
    "        plt.show()"
   ]
  },
  {
   "cell_type": "code",
   "execution_count": 26,
   "metadata": {
    "executionInfo": {
     "elapsed": 94545,
     "status": "ok",
     "timestamp": 1601157902653,
     "user": {
      "displayName": "Abhinav Gupta",
      "photoUrl": "https://lh3.googleusercontent.com/a-/AOh14GgMtMT5ccMf8GLgQ3yu6fAY2d6upCEZXfzS-5A6Cg=s64",
      "userId": "02552889854388316189"
     },
     "user_tz": 240
    },
    "id": "cnb1m74W8a3l"
   },
   "outputs": [],
   "source": [
    "plot_obj = custom_plot(tf.concat([true_u_low_res, val_true_u_low_res], axis=0), \n",
    "                       tf.concat([u_low_res, val_u_low_res], axis=0), \n",
    "                       tf.convert_to_tensor(fdgen.grid(args.args_eval_lf).x_grid_real), \n",
    "                       tf.concat([t, val_t], axis=0), args.args_eval_lf)"
   ]
  },
  {
   "cell_type": "markdown",
   "metadata": {
    "id": "Ni3vuuA4JLWc"
   },
   "source": [
    "### Plot training time"
   ]
  },
  {
   "cell_type": "code",
   "execution_count": 15,
   "metadata": {},
   "outputs": [
    {
     "data": {
      "image/png": "[encoded data removed]",
      "text/plain": [
       "<Figure size 1008x324 with 4 Axes>"
      ]
     },
     "metadata": {},
     "output_type": "display_data"
    }
   ],
   "source": [
    "plot_obj.plot(pred_zy[:, :, :args.args_eval_lf.state_dim], epoch = 0)"
   ]
  },
  {
   "cell_type": "code",
   "execution_count": 27,
   "metadata": {},
   "outputs": [
    {
     "data": {
      "image/png": "[encoded data removed]",
      "text/plain": [
       "<Figure size 1008x324 with 4 Axes>"
      ]
     },
     "metadata": {},
     "output_type": "display_data"
    }
   ],
   "source": [
    "plot_obj.plot_baseline()"
   ]
  },
  {
   "cell_type": "code",
   "execution_count": 16,
   "metadata": {},
   "outputs": [],
   "source": [
    "class compute_error():\n",
    "    \n",
    "    def __init__(self, truth, thres = 0.02):\n",
    "        self.truth = truth\n",
    "        self.thres = thres\n",
    "        \n",
    "    def l2_error(self, pred):\n",
    "        \n",
    "        error = tf.reduce_mean(tf.sqrt(tf.reduce_sum(tf.math.squared_difference(pred, self.truth), axis=-1)), axis=0)\n",
    "        \n",
    "        return error.numpy()\n",
    "    \n",
    "    def RMSE(self, pred):\n",
    "        \n",
    "        thres = tf.reduce_max(self.truth)*self.thres\n",
    "        error = []\n",
    "        diff = pred - self.truth\n",
    "        \n",
    "        for i in range(1, pred.shape[0]):\n",
    "            diff_t = np.abs(np.squeeze(diff[i, :, :].numpy()))\n",
    "            error_t = diff_t[np.where(diff_t >= thres)]\n",
    "            if len(error_t) == 0: continue\n",
    "            error_t = np.sqrt(np.sum(error_t**2)/len(error_t))\n",
    "            error.append(error_t)\n",
    "\n",
    "        error = np.mean(np.array(error))\n",
    "        return error"
   ]
  },
  {
   "cell_type": "code",
   "execution_count": 17,
   "metadata": {},
   "outputs": [],
   "source": [
    "truth = tf.concat([true_u_low_res, val_true_u_low_res], axis=0)\n",
    "\n",
    "err_obj = compute_error(truth)"
   ]
  },
  {
   "cell_type": "code",
   "execution_count": 18,
   "metadata": {},
   "outputs": [
    {
     "data": {
      "text/plain": [
       "array([0.03220943], dtype=float32)"
      ]
     },
     "execution_count": 18,
     "metadata": {},
     "output_type": "execute_result"
    }
   ],
   "source": [
    "err_obj.l2_error(pred_zy[:, :, :args.args_eval_lf.state_dim])"
   ]
  },
  {
   "cell_type": "code",
   "execution_count": 19,
   "metadata": {},
   "outputs": [
    {
     "data": {
      "text/plain": [
       "0.03466326071467159"
      ]
     },
     "execution_count": 19,
     "metadata": {},
     "output_type": "execute_result"
    }
   ],
   "source": [
    "err_obj.RMSE(pred_zy[:, :, :args.args_eval_lf.state_dim])"
   ]
  },
  {
   "cell_type": "code",
   "execution_count": 28,
   "metadata": {},
   "outputs": [
    {
     "data": {
      "text/plain": [
       "array([0.28815016], dtype=float32)"
      ]
     },
     "execution_count": 28,
     "metadata": {},
     "output_type": "execute_result"
    }
   ],
   "source": [
    "err_obj.l2_error(tf.concat([u_low_res, val_u_low_res], axis=0)[:, :, :args.args_eval_lf.state_dim])"
   ]
  },
  {
   "cell_type": "code",
   "execution_count": 29,
   "metadata": {},
   "outputs": [
    {
     "data": {
      "text/plain": [
       "0.1074298824845647"
      ]
     },
     "execution_count": 29,
     "metadata": {},
     "output_type": "execute_result"
    }
   ],
   "source": [
    "err_obj.RMSE(tf.concat([u_low_res, val_u_low_res], axis=0)[:, :, :args.args_eval_lf.state_dim])"
   ]
  },
  {
   "cell_type": "code",
   "execution_count": null,
   "metadata": {},
   "outputs": [],
   "source": []
  }
 ],
 "metadata": {
  "accelerator": "GPU",
  "colab": {
   "collapsed_sections": [],
   "machine_shape": "hm",
   "name": "neuralODE_Res_AD_Eqn_TestCase.ipynb",
   "provenance": []
  },
  "kernelspec": {
   "display_name": "Python 3",
   "language": "python",
   "name": "python3"
  },
  "language_info": {
   "codemirror_mode": {
    "name": "ipython",
    "version": 3
   },
   "file_extension": ".py",
   "mimetype": "text/x-python",
   "name": "python",
   "nbconvert_exporter": "python",
   "pygments_lexer": "ipython3",
   "version": "3.7.4"
  }
 },
 "nbformat": 4,
 "nbformat_minor": 1
}
