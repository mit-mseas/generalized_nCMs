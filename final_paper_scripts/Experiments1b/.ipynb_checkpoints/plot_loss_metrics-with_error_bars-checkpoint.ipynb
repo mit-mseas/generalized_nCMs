{
 "cells": [
  {
   "cell_type": "code",
   "execution_count": 1,
   "metadata": {
    "colab": {},
    "colab_type": "code",
    "executionInfo": {
     "elapsed": 787,
     "status": "ok",
     "timestamp": 1599663105288,
     "user": {
      "displayName": "Abhinav Gupta",
      "photoUrl": "https://lh3.googleusercontent.com/a-/AOh14GgMtMT5ccMf8GLgQ3yu6fAY2d6upCEZXfzS-5A6Cg=s64",
      "userId": "02552889854388316189"
     },
     "user_tz": 240
    },
    "id": "h3hhd3d3jH0f"
   },
   "outputs": [],
   "source": [
    "basedir = '/home/abhinavgupta0110/generalized_nCM'\n",
    "\n",
    "import os\n",
    "\n",
    "is_google_colab = False"
   ]
  },
  {
   "cell_type": "markdown",
   "metadata": {
    "colab_type": "text",
    "id": "89oENAJjWO8q"
   },
   "source": [
    "### Mount the Google drive if needed"
   ]
  },
  {
   "cell_type": "code",
   "execution_count": 2,
   "metadata": {
    "colab": {
     "base_uri": "https://localhost:8080/",
     "height": 428
    },
    "colab_type": "code",
    "executionInfo": {
     "elapsed": 33734,
     "status": "ok",
     "timestamp": 1599663142448,
     "user": {
      "displayName": "Abhinav Gupta",
      "photoUrl": "https://lh3.googleusercontent.com/a-/AOh14GgMtMT5ccMf8GLgQ3yu6fAY2d6upCEZXfzS-5A6Cg=s64",
      "userId": "02552889854388316189"
     },
     "user_tz": 240
    },
    "id": "I1wjStEOWR0W",
    "outputId": "ea832cbf-c213-4382-cd44-9b358c108558"
   },
   "outputs": [],
   "source": [
    "if is_google_colab:\n",
    "    from google.colab import drive\n",
    "    drive.mount('/content/drive')\n",
    "    \n",
    "    %pip install quadpy\n",
    "\n",
    "os.chdir(os.path.join(basedir, 'generalized_nCMs'))"
   ]
  },
  {
   "cell_type": "code",
   "execution_count": 3,
   "metadata": {
    "colab": {},
    "colab_type": "code",
    "executionInfo": {
     "elapsed": 10707,
     "status": "ok",
     "timestamp": 1599663156809,
     "user": {
      "displayName": "Abhinav Gupta",
      "photoUrl": "https://lh3.googleusercontent.com/a-/AOh14GgMtMT5ccMf8GLgQ3yu6fAY2d6upCEZXfzS-5A6Cg=s64",
      "userId": "02552889854388316189"
     },
     "user_tz": 240
    },
    "id": "-x-ym6QTclLL"
   },
   "outputs": [],
   "source": [
    "from src.solvers.neuralDistDDE_train_HOTs import history\n",
    "\n",
    "import sys\n",
    "import numpy as np\n",
    "import tensorflow as tf\n",
    "import matplotlib.pyplot as plt\n",
    "from statistics import median\n",
    "\n",
    "from IPython.core.debugger import set_trace"
   ]
  },
  {
   "cell_type": "code",
   "execution_count": 4,
   "metadata": {
    "colab": {},
    "colab_type": "code",
    "executionInfo": {
     "elapsed": 10143,
     "status": "ok",
     "timestamp": 1599663156813,
     "user": {
      "displayName": "Abhinav Gupta",
      "photoUrl": "https://lh3.googleusercontent.com/a-/AOh14GgMtMT5ccMf8GLgQ3yu6fAY2d6upCEZXfzS-5A6Cg=s64",
      "userId": "02552889854388316189"
     },
     "user_tz": 240
    },
    "id": "bf6cwMOji5HN"
   },
   "outputs": [],
   "source": [
    "os.chdir(basedir)"
   ]
  },
  {
   "cell_type": "code",
   "execution_count": 5,
   "metadata": {
    "colab": {},
    "colab_type": "code",
    "executionInfo": {
     "elapsed": 6552,
     "status": "ok",
     "timestamp": 1599663156816,
     "user": {
      "displayName": "Abhinav Gupta",
      "photoUrl": "https://lh3.googleusercontent.com/a-/AOh14GgMtMT5ccMf8GLgQ3yu6fAY2d6upCEZXfzS-5A6Cg=s64",
      "userId": "02552889854388316189"
     },
     "user_tz": 240
    },
    "id": "g0Up-uIib_jG"
   },
   "outputs": [],
   "source": [
    "class args:\n",
    "    def __init__(self, model_dir):\n",
    "        self.model_dir = model_dir"
   ]
  },
  {
   "cell_type": "code",
   "execution_count": 6,
   "metadata": {},
   "outputs": [],
   "source": [
    "def read_data(epochs, model_dirs, who = 'train'):\n",
    "\n",
    "    data = []\n",
    "\n",
    "    for j in range(len(epochs)):\n",
    "        data.append([])\n",
    "        for i in range(len(model_dirs)):\n",
    "            loss_history = history(args(model_dirs[i]))\n",
    "            loss_history.read()\n",
    "            try:\n",
    "                idx = loss_history.epoch.index(epochs[j])\n",
    "                if who == 'train':\n",
    "                    data[j].append(loss_history.train_loss[idx])\n",
    "                else:\n",
    "                    data[j].append(loss_history.val_loss[idx])\n",
    "            except:\n",
    "                continue\n",
    "                \n",
    "    return data"
   ]
  },
  {
   "cell_type": "code",
   "execution_count": 7,
   "metadata": {
    "colab": {},
    "colab_type": "code",
    "executionInfo": {
     "elapsed": 2881,
     "status": "ok",
     "timestamp": 1599663156818,
     "user": {
      "displayName": "Abhinav Gupta",
      "photoUrl": "https://lh3.googleusercontent.com/a-/AOh14GgMtMT5ccMf8GLgQ3yu6fAY2d6upCEZXfzS-5A6Cg=s64",
      "userId": "02552889854388316189"
     },
     "user_tz": 240
    },
    "id": "5dHfRS2cbTu_"
   },
   "outputs": [],
   "source": [
    "model_dirs = ['burgers_testcase_nODE_v2/model_dir_case1', \n",
    "              'burgers_testcase_nODE_v2/model_dir_case1ab', \n",
    "              'burgers_testcase_nODE_v2/model_dir_case1ac', \n",
    "              'burgers_testcase_nODE_v2/model_dir_case1ad', \n",
    "              'burgers_testcase_nODE_v2/model_dir_case1ae',\n",
    "              'burgers_testcase_nODE_v2/model_dir_case1af',\n",
    "              'burgers_testcase_nODE_v2/model_dir_case1ag',\n",
    "              'burgers_testcase_nODE_v2/model_dir_case1ah']\n",
    "\n",
    "epochs = [0, 5, 10, 15, 20, 25, 30]"
   ]
  },
  {
   "cell_type": "code",
   "execution_count": 22,
   "metadata": {},
   "outputs": [
    {
     "data": {
      "image/png": "[encoded data removed]",
      "text/plain": [
       "<Figure size 936x288 with 2 Axes>"
      ]
     },
     "metadata": {},
     "output_type": "display_data"
    }
   ],
   "source": [
    "fig = plt.figure(figsize=(13, 4), facecolor='white')\n",
    "ax = fig.add_subplot(121)\n",
    "ax2 = fig.add_subplot(122)\n",
    "\n",
    "ax.cla()\n",
    "ax.set_title('Training Loss', fontsize=18)\n",
    "ax.set_xlabel('Epochs', fontsize=18)\n",
    "ax.set_ylabel('Error', fontsize=18)\n",
    "\n",
    "data = read_data(epochs, model_dirs)\n",
    "\n",
    "data_median = [median(data[i]) for i in range(len(data))]\n",
    "box = ax.boxplot(data, positions = epochs, widths=2)\n",
    "ax.semilogy(epochs, data_median, '-k')\n",
    "\n",
    "ax.set_xlim(0, max(epochs))\n",
    "ax.set_ylim(0.0175, 0.175)\n",
    "\n",
    "ax.tick_params(axis='x', labelsize=14, labelrotation=45)\n",
    "ax.tick_params(axis='y', labelsize=14)\n",
    "\n",
    "\n",
    "\n",
    "ax2.cla()\n",
    "ax2.set_title('Validation Loss', fontsize=18)\n",
    "ax2.set_xlabel('Epochs', fontsize=18)\n",
    "ax2.set_ylabel('Error', fontsize=18)\n",
    "\n",
    "data = read_data(epochs, model_dirs, 'val')\n",
    "data_median = [median(data[i]) for i in range(len(data))]\n",
    "box = ax2.boxplot(data, positions = epochs, widths=2)\n",
    "ax2.semilogy(epochs, data_median, '-k')\n",
    "\n",
    "ax2.set_xlim(0, max(epochs))\n",
    "ax2.set_ylim(0.0175, 0.175)\n",
    "\n",
    "ax2.tick_params(axis='x', labelsize=14, labelrotation=45)\n",
    "ax2.tick_params(axis='y', labelsize=14)\n",
    "\n",
    "plt.subplots_adjust(wspace=0.3)\n",
    "plt.show()"
   ]
  },
  {
   "cell_type": "code",
   "execution_count": null,
   "metadata": {},
   "outputs": [],
   "source": []
  }
 ],
 "metadata": {
  "colab": {
   "authorship_tag": "ABX9TyMJj21duMEIqivFRkoiTRgY",
   "name": "plot_loss_metrics.ipynb",
   "provenance": []
  },
  "kernelspec": {
   "display_name": "Python 3",
   "language": "python",
   "name": "python3"
  },
  "language_info": {
   "codemirror_mode": {
    "name": "ipython",
    "version": 3
   },
   "file_extension": ".py",
   "mimetype": "text/x-python",
   "name": "python",
   "nbconvert_exporter": "python",
   "pygments_lexer": "ipython3",
   "version": "3.7.4"
  }
 },
 "nbformat": 4,
 "nbformat_minor": 1
}
