{
 "cells": [
  {
   "cell_type": "markdown",
   "metadata": {
    "id": "qsHIiDE-BBF9"
   },
   "source": [
    "### Set your directories."
   ]
  },
  {
   "cell_type": "markdown",
   "metadata": {
    "id": "3YBvLJmJAJFq"
   },
   "source": [
    "Edit ```basedir``` according to the location of folder containing this repo.\n",
    "\n"
   ]
  },
  {
   "cell_type": "code",
   "execution_count": null,
   "metadata": {
    "executionInfo": {
     "elapsed": 257,
     "status": "ok",
     "timestamp": 1630515858512,
     "user": {
      "displayName": "Abhinav Gupta",
      "photoUrl": "https://lh3.googleusercontent.com/a-/AOh14GgMtMT5ccMf8GLgQ3yu6fAY2d6upCEZXfzS-5A6Cg=s64",
      "userId": "02552889854388316189"
     },
     "user_tz": 240
    },
    "id": "4X14C3P2LphD"
   },
   "outputs": [],
   "source": [
    "basedir = '/home/abhinavgupta0110/generalized_nCM'\n",
    "\n",
    "import os\n",
    "\n",
    "is_google_colab = False\n",
    "is_use_GPU = False"
   ]
  },
  {
   "cell_type": "markdown",
   "metadata": {
    "id": "LXb529iyApuB"
   },
   "source": [
    "Edit ```os.chdir(os.path.join(basedir, 'Poly_Collocation_Solver'))``` with the folder name containing this repo."
   ]
  },
  {
   "cell_type": "code",
   "execution_count": null,
   "metadata": {
    "colab": {
     "base_uri": "https://localhost:8080/"
    },
    "executionInfo": {
     "elapsed": 279,
     "status": "ok",
     "timestamp": 1630515858788,
     "user": {
      "displayName": "Abhinav Gupta",
      "photoUrl": "https://lh3.googleusercontent.com/a-/AOh14GgMtMT5ccMf8GLgQ3yu6fAY2d6upCEZXfzS-5A6Cg=s64",
      "userId": "02552889854388316189"
     },
     "user_tz": 240
    },
    "id": "pWnEuKa1L4qm",
    "outputId": "a7c0f595-8c0c-4968-ad68-3ec93b8fc714"
   },
   "outputs": [],
   "source": [
    "if is_use_GPU:\n",
    "    gpu_info = !nvidia-smi\n",
    "    gpu_info = '\\n'.join(gpu_info)\n",
    "    if gpu_info.find('failed') >= 0:\n",
    "        print('No GPU found!')\n",
    "    else:\n",
    "        print(gpu_info)\n",
    "\n",
    "if is_google_colab:\n",
    "    from google.colab import drive\n",
    "    drive.mount('/content/drive')\n",
    "\n",
    "os.chdir(os.path.join(basedir, 'generalized_nCMs'))\n",
    "\n",
    "%load_ext autoreload"
   ]
  },
  {
   "cell_type": "markdown",
   "metadata": {
    "id": "GGfZhLh9A20B"
   },
   "source": [
    "### Load packages as per need."
   ]
  },
  {
   "cell_type": "code",
   "execution_count": null,
   "metadata": {
    "executionInfo": {
     "elapsed": 1033,
     "status": "ok",
     "timestamp": 1630515859819,
     "user": {
      "displayName": "Abhinav Gupta",
      "photoUrl": "https://lh3.googleusercontent.com/a-/AOh14GgMtMT5ccMf8GLgQ3yu6fAY2d6upCEZXfzS-5A6Cg=s64",
      "userId": "02552889854388316189"
     },
     "user_tz": 240
    },
    "id": "ZdNSkEpaMEF7"
   },
   "outputs": [],
   "source": [
    "%autoreload 2\n",
    "\n",
    "from src.utilities.DDE_Solver import ddeinttf \n",
    "from src.utilities.helper_classes import * \n",
    "import src.kdv_burgers_eqn_case.kdv_burgers_eqn as burg\n",
    "from src.kdv_burgers_eqn_case.kdv_burgers_eqn_helper_classes import * \n",
    "\n",
    "from IPython.core.debugger import set_trace\n",
    "\n",
    "import numpy as np\n",
    "import tensorflow as tf\n",
    "import matplotlib.pyplot as plt\n",
    "from matplotlib import cm\n",
    "\n",
    "from matplotlib.animation import FuncAnimation, PillowWriter\n",
    "from numpy import random"
   ]
  },
  {
   "cell_type": "markdown",
   "metadata": {},
   "source": [
    "### Define some useful classes"
   ]
  },
  {
   "cell_type": "markdown",
   "metadata": {},
   "source": [
    "#### Initial conditions"
   ]
  },
  {
   "cell_type": "markdown",
   "metadata": {},
   "source": [
    "#### Analytical solution"
   ]
  },
  {
   "cell_type": "code",
   "execution_count": null,
   "metadata": {},
   "outputs": [],
   "source": [
    "class ad_eqn_analy:\n",
    "\n",
    "    def __init__(self, x, app):\n",
    "        self.x = x\n",
    "        self.app = app\n",
    "\n",
    "    def __call__(self, t):\n",
    "        u = self.x / (t + 1.) / (1. + np.sqrt(np.divide(t + 1., self.app.t0), dtype = np.float64) * np.exp(self.app.Re * (self.x**2 / ((4. * t) + 4.)), dtype = np.float64))\n",
    "        return tf.convert_to_tensor([u], dtype=tf.float32)"
   ]
  },
  {
   "cell_type": "markdown",
   "metadata": {},
   "source": [
    "### Main part starts here"
   ]
  },
  {
   "cell_type": "markdown",
   "metadata": {},
   "source": [
    "#### User-defined parameters and create objects"
   ]
  },
  {
   "cell_type": "code",
   "execution_count": null,
   "metadata": {},
   "outputs": [],
   "source": [
    "args = burg.kdv_burg_args(T = 2, nt = 200, x_left = -10, x_right = 10, Nx = 100, Re = 1000, dbc_l = 1, nbc_l = 0, dbc_r = 0, nbc_r = 1, max_deriv = 3, \n",
    "                          acc = 2, acc_advec = 4, eta_1 = 1.2, eta_2 = 0.8, x_1 = -6.0, x_2 = -2.0)\n",
    "model_dir = 'burgers_fd/model_dir_case_test'\n",
    "args_high = burg.kdv_burg_args(T = 2, nt = 200, x_left = -10, x_right = 10, Nx = 200, Re = 1000, dbc_l = 1, nbc_l = 0, dbc_r = 0, nbc_r = 1,  max_deriv = 3, \n",
    "                               acc = 2, acc_advec = 2, eta_1 = 1.2, eta_2 = 0.8, x_1 = -6.0, x_2 = -2.0)"
   ]
  },
  {
   "cell_type": "code",
   "execution_count": null,
   "metadata": {},
   "outputs": [],
   "source": [
    "os.chdir(basedir)\n",
    "\n",
    "if not os.path.exists(model_dir):\n",
    "    os.makedirs(model_dir)\n",
    "    \n",
    "os.chdir(model_dir)"
   ]
  },
  {
   "cell_type": "code",
   "execution_count": null,
   "metadata": {},
   "outputs": [],
   "source": [
    "t = tf.linspace(0., args.T, args.nt)"
   ]
  },
  {
   "cell_type": "code",
   "execution_count": null,
   "metadata": {},
   "outputs": [],
   "source": [
    "grid_obj = fdgen.grid(args)\n",
    "u0 = initial_cond(grid_obj.x_grid_real, args)\n",
    "\n",
    "deriv_obj = fdgen.deriv(args, grid_obj)\n",
    "\n",
    "sol_obj = burg.burg_rhs(args, deriv_obj, grid_obj)\n",
    "\n",
    "u = ddeinttf(sol_obj, u0, t, alg_name = 'vode', nsteps = 100)"
   ]
  },
  {
   "cell_type": "code",
   "execution_count": null,
   "metadata": {},
   "outputs": [],
   "source": [
    "grid_obj_high = fdgen.grid(args_high)\n",
    "u0 = initial_cond(grid_obj_high.x_grid_real, args_high)\n",
    "\n",
    "deriv_obj_high = fdgen.deriv(args_high, grid_obj_high)\n",
    "\n",
    "sol_obj = burg.burg_rhs(args_high, deriv_obj_high, grid_obj_high)\n",
    "\n",
    "u_high = ddeinttf(sol_obj, u0, t, alg_name = 'vode', nsteps = 100)"
   ]
  },
  {
   "cell_type": "markdown",
   "metadata": {},
   "source": [
    "#### Solve and plot"
   ]
  },
  {
   "cell_type": "code",
   "execution_count": null,
   "metadata": {},
   "outputs": [],
   "source": [
    "###########################################################\n",
    "# First plot the solution on the original grid\n",
    "###########################################################\n",
    "fig = plt.figure(figsize=(18, 4), facecolor='white')\n",
    "ax_u = fig.add_subplot(131)\n",
    "ax_u_high = fig.add_subplot(132)\n",
    "ax_u_analy = fig.add_subplot(133)\n",
    "\n",
    "X, T = np.meshgrid(grid_obj.x_grid_real, t.numpy())\n",
    "\n",
    "ax_u.cla()\n",
    "ax_u.set_title('Low-res Solution')\n",
    "ax_u.set_xlabel('x')\n",
    "ax_u.set_ylabel('t')\n",
    "plot = ax_u.contourf(X, T, tf.squeeze(u, axis=1).numpy(), cmap=cm.coolwarm,\n",
    "                           antialiased=False, levels=np.linspace(0, 3.0, 20), extend='min')\n",
    "ax_u.set_xlim(grid_obj.x_grid_real[0], grid_obj.x_grid_real[-1])\n",
    "ax_u.set_ylim(t[0], t[-1])\n",
    "plt.colorbar(plot, ax=ax_u, shrink=0.5, aspect=10)\n",
    "\n",
    "###########################################################\n",
    "# Sample the Chebyshev collocation solution on a high-res. grid\n",
    "###########################################################\n",
    "\n",
    "u_high_intp_low = interp_high_res_to_low_res(u_high, grid_obj_high.x_grid, grid_obj.x_grid, t)\n",
    "\n",
    "ax_u_high.cla()\n",
    "ax_u_high.set_title('High-res sol interp on low-res')\n",
    "ax_u_high.set_xlabel('x')\n",
    "ax_u_high.set_ylabel('t')\n",
    "plot = ax_u_high.contourf(X, T, tf.squeeze(u_high_intp_low, axis=1).numpy(), cmap=cm.coolwarm,\n",
    "                           antialiased=False, levels=np.linspace(0, 3.0, 20), extend='min')\n",
    "ax_u_high.set_xlim(grid_obj.x_grid_real[0], grid_obj.x_grid_real[-1])\n",
    "ax_u_high.set_ylim(t[0], t[-1])\n",
    "plt.colorbar(plot, ax=ax_u_high, shrink=0.5, aspect=10)\n",
    "\n",
    "###########################################################\n",
    "# Plot difference w.r.t. analytical solution\n",
    "###########################################################\n",
    "\n",
    "ax_u_analy.cla()\n",
    "ax_u_analy.set_title('Difference')\n",
    "ax_u_analy.set_xlabel('x')\n",
    "ax_u_analy.set_ylabel('t')\n",
    "plot = ax_u_analy.contourf(X, T, np.abs(tf.squeeze(u_high_intp_low, axis=1).numpy() - tf.squeeze(u, axis=1).numpy()), cmap=cm.coolwarm,\n",
    "                           antialiased=False, levels=np.linspace(0, 0.25, 20), extend='min')\n",
    "ax_u_analy.set_xlim(grid_obj.x_grid_real[0], grid_obj.x_grid_real[-1])\n",
    "ax_u_analy.set_ylim(t[0], t[-1])\n",
    "plt.colorbar(plot, ax=ax_u_analy, shrink=0.5, aspect=10)\n",
    "\n",
    "fig.show()"
   ]
  },
  {
   "cell_type": "code",
   "execution_count": null,
   "metadata": {},
   "outputs": [],
   "source": [
    "fig, ax = plt.subplots()\n",
    "line, = plt.plot([], [], 'o-', lw=2)\n",
    "labels = ['High-Res', 'High-Res Interp \\non Low-Res Grid', 'Low-Res']\n",
    "\n",
    "plotlays, plotcols = [3], [\"blue\",\"red\", \"black\"]\n",
    "lines = []\n",
    "for index in range(3):\n",
    "    lobj = ax.plot([],[], 'o-', lw=2,color=plotcols[index])[0]\n",
    "    lines.append(lobj)\n",
    "\n",
    "def init():\n",
    "    ax.set_xlim(-10, 10.)\n",
    "    ax.set_ylim(0, 3.0)\n",
    "    ax.set_xlabel('x')\n",
    "    ax.set_ylabel('u')\n",
    "    \n",
    "    for line in lines:\n",
    "        line.set_data([],[])\n",
    "    return lines\n",
    "\n",
    "def update(frame):\n",
    "    xdata = [grid_obj_high.x_grid_real, grid_obj.x_grid_real, grid_obj.x_grid_real]\n",
    "    ydata = [tf.squeeze(u_high, axis=1).numpy()[frame, :], u_high_intp_low[frame, :], tf.squeeze(u, axis=1).numpy()[frame, :]]\n",
    "    \n",
    "    for lnum,line in enumerate(lines):\n",
    "        line.set_data(xdata[lnum], ydata[lnum]) # set data for each line separately.\n",
    "        line.set_label(labels[lnum])\n",
    "        ax.legend(loc=\"upper right\")\n",
    "\n",
    "        fig.gca().autoscale_view()\n",
    "        fig.gca().relim()\n",
    "    return lines \n",
    "\n",
    "ani = FuncAnimation(fig, update, frames=np.arange(len(t.numpy())),\n",
    "                    init_func=init, blit=True, interval=60)\n",
    "\n",
    "ani.save('burgers_res_Re'+str(args.Re)+'_nx'+str(args.Nx)+'_'+str(args_high.Nx)+'.gif', writer=PillowWriter(fps=24))"
   ]
  },
  {
   "cell_type": "code",
   "execution_count": null,
   "metadata": {},
   "outputs": [],
   "source": []
  }
 ],
 "metadata": {
  "colab": {
   "authorship_tag": "ABX9TyMTFHavwXcrFtCMYLqCbZef",
   "name": "Lorenz_system.ipynb",
   "provenance": []
  },
  "kernelspec": {
   "display_name": "Python 3",
   "language": "python",
   "name": "python3"
  },
  "language_info": {
   "codemirror_mode": {
    "name": "ipython",
    "version": 3
   },
   "file_extension": ".py",
   "mimetype": "text/x-python",
   "name": "python",
   "nbconvert_exporter": "python",
   "pygments_lexer": "ipython3",
   "version": "3.8.8"
  }
 },
 "nbformat": 4,
 "nbformat_minor": 1
}
