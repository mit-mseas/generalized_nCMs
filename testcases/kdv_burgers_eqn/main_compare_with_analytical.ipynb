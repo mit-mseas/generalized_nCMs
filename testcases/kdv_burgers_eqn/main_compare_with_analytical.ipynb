{
 "cells": [
  {
   "cell_type": "markdown",
   "metadata": {
    "id": "qsHIiDE-BBF9"
   },
   "source": [
    "### Set your directories."
   ]
  },
  {
   "cell_type": "markdown",
   "metadata": {
    "id": "3YBvLJmJAJFq"
   },
   "source": [
    "Edit ```basedir``` according to the location of folder containing this repo.\n",
    "\n"
   ]
  },
  {
   "cell_type": "code",
   "execution_count": 1,
   "metadata": {
    "executionInfo": {
     "elapsed": 257,
     "status": "ok",
     "timestamp": 1630515858512,
     "user": {
      "displayName": "Abhinav Gupta",
      "photoUrl": "https://lh3.googleusercontent.com/a-/AOh14GgMtMT5ccMf8GLgQ3yu6fAY2d6upCEZXfzS-5A6Cg=s64",
      "userId": "02552889854388316189"
     },
     "user_tz": 240
    },
    "id": "4X14C3P2LphD"
   },
   "outputs": [],
   "source": [
    "basedir = '/home/abhinavgupta0110/generalized_nCM'\n",
    "\n",
    "import os\n",
    "\n",
    "is_google_colab = False\n",
    "is_use_GPU = False"
   ]
  },
  {
   "cell_type": "markdown",
   "metadata": {
    "id": "LXb529iyApuB"
   },
   "source": [
    "Edit ```os.chdir(os.path.join(basedir, 'Poly_Collocation_Solver'))``` with the folder name containing this repo."
   ]
  },
  {
   "cell_type": "code",
   "execution_count": 2,
   "metadata": {
    "colab": {
     "base_uri": "https://localhost:8080/"
    },
    "executionInfo": {
     "elapsed": 279,
     "status": "ok",
     "timestamp": 1630515858788,
     "user": {
      "displayName": "Abhinav Gupta",
      "photoUrl": "https://lh3.googleusercontent.com/a-/AOh14GgMtMT5ccMf8GLgQ3yu6fAY2d6upCEZXfzS-5A6Cg=s64",
      "userId": "02552889854388316189"
     },
     "user_tz": 240
    },
    "id": "pWnEuKa1L4qm",
    "outputId": "a7c0f595-8c0c-4968-ad68-3ec93b8fc714"
   },
   "outputs": [],
   "source": [
    "if is_use_GPU:\n",
    "    gpu_info = !nvidia-smi\n",
    "    gpu_info = '\\n'.join(gpu_info)\n",
    "    if gpu_info.find('failed') >= 0:\n",
    "        print('No GPU found!')\n",
    "    else:\n",
    "        print(gpu_info)\n",
    "\n",
    "if is_google_colab:\n",
    "    from google.colab import drive\n",
    "    drive.mount('/content/drive')\n",
    "\n",
    "os.chdir(os.path.join(basedir, 'generalized_nCMs'))\n",
    "\n",
    "%load_ext autoreload"
   ]
  },
  {
   "cell_type": "markdown",
   "metadata": {
    "id": "GGfZhLh9A20B"
   },
   "source": [
    "### Load packages as per need."
   ]
  },
  {
   "cell_type": "code",
   "execution_count": 3,
   "metadata": {
    "executionInfo": {
     "elapsed": 1033,
     "status": "ok",
     "timestamp": 1630515859819,
     "user": {
      "displayName": "Abhinav Gupta",
      "photoUrl": "https://lh3.googleusercontent.com/a-/AOh14GgMtMT5ccMf8GLgQ3yu6fAY2d6upCEZXfzS-5A6Cg=s64",
      "userId": "02552889854388316189"
     },
     "user_tz": 240
    },
    "id": "ZdNSkEpaMEF7"
   },
   "outputs": [],
   "source": [
    "%autoreload 2\n",
    "\n",
    "from src.utilities.DDE_Solver import ddeinttf \n",
    "from src.utilities.helper_classes import * \n",
    "import src.kdv_burgers_eqn_case.kdv_burgers_eqn as burg\n",
    "from src.kdv_burgers_eqn_case.kdv_burgers_eqn_helper_classes import * \n",
    "\n",
    "from IPython.core.debugger import set_trace\n",
    "\n",
    "import numpy as np\n",
    "import tensorflow as tf\n",
    "import matplotlib.pyplot as plt\n",
    "from matplotlib import cm\n",
    "\n",
    "from matplotlib.animation import FuncAnimation, PillowWriter\n",
    "from numpy import random"
   ]
  },
  {
   "cell_type": "markdown",
   "metadata": {},
   "source": [
    "### Define some useful classes"
   ]
  },
  {
   "cell_type": "code",
   "execution_count": 4,
   "metadata": {},
   "outputs": [],
   "source": [
    "class ad_eqn_analy:\n",
    "\n",
    "    def __init__(self, x, app):\n",
    "        self.x = x\n",
    "        self.app = app\n",
    "\n",
    "    def __call__(self, t):\n",
    "        \n",
    "        theta_1 = self.app.eta_1 * (self.x - self.app.x_1 - (4. * self.app.eta_1**2 * t))\n",
    "        theta_2 = self.app.eta_2 * (self.x - self.app.x_2 - (4. * self.app.eta_2**2 * t))\n",
    "        \n",
    "        u = (8. * (self.app.eta_1**2 - self.app.eta_2**2) * (self.app.eta_1**2 * np.cosh(theta_2)**2 + self.app.eta_2**2 * np.sinh(theta_1)**2)) \\\n",
    "            / ((self.app.eta_1 - self.app.eta_2) * np.cosh(theta_1 + theta_2) + (self.app.eta_1 + self.app.eta_2) * np.cosh(theta_1 - theta_2))**2\n",
    "        \n",
    "        return tf.convert_to_tensor([u], dtype=tf.float32)"
   ]
  },
  {
   "cell_type": "markdown",
   "metadata": {},
   "source": [
    "### Main part starts here"
   ]
  },
  {
   "cell_type": "markdown",
   "metadata": {},
   "source": [
    "#### User-defined parameters and create objects"
   ]
  },
  {
   "cell_type": "code",
   "execution_count": 5,
   "metadata": {},
   "outputs": [],
   "source": [
    "args = burg.kdv_burg_args(T = 1.5, nt = 150, x_left = -10, x_right = 10, Nx = 200, dbc_l = 1, nbc_l = 0, dbc_r = 0, nbc_r = 1, max_deriv = 3, \n",
    "                          acc = 4, acc_advec = 2, eta_1 = 1.2, eta_2 = 0.8, x_1 = -6.0, x_2 = -2.0)\n",
    "model_dir = 'burgers_fd/model_dir_case_test'"
   ]
  },
  {
   "cell_type": "code",
   "execution_count": 6,
   "metadata": {},
   "outputs": [],
   "source": [
    "os.chdir(basedir)\n",
    "\n",
    "if not os.path.exists(model_dir):\n",
    "    os.makedirs(model_dir)\n",
    "    \n",
    "os.chdir(model_dir)"
   ]
  },
  {
   "cell_type": "code",
   "execution_count": 7,
   "metadata": {},
   "outputs": [],
   "source": [
    "grid_obj = fdgen.grid(args)\n",
    "u0 = initial_cond(grid_obj.x_grid, args)\n",
    "\n",
    "t = tf.linspace(0., args.T, args.nt)"
   ]
  },
  {
   "cell_type": "code",
   "execution_count": 8,
   "metadata": {},
   "outputs": [],
   "source": [
    "deriv_obj = fdgen.deriv(args, grid_obj)\n",
    "\n",
    "sol_obj = burg.burg_rhs(args, deriv_obj, grid_obj)"
   ]
  },
  {
   "cell_type": "markdown",
   "metadata": {},
   "source": [
    "#### Solve and plot"
   ]
  },
  {
   "cell_type": "code",
   "execution_count": 9,
   "metadata": {},
   "outputs": [
    {
     "name": "stderr",
     "output_type": "stream",
     "text": [
      "/home/abhinavgupta0110/anaconda3/lib/python3.8/site-packages/scipy/integrate/_ode.py:1013: UserWarning: vode: Excess work done on this call. (Perhaps wrong MF.)\n",
      "  warnings.warn('{:s}: {:s}'.format(self.__class__.__name__,\n"
     ]
    }
   ],
   "source": [
    "u = ddeinttf(sol_obj, u0, t, alg_name = 'vode', nsteps = 200)"
   ]
  },
  {
   "cell_type": "code",
   "execution_count": 10,
   "metadata": {},
   "outputs": [],
   "source": [
    "import pickle\n",
    "\n",
    "data_dict = {'u':u, 't': t}\n",
    "\n",
    "with open('burgers_T'+str(args.T)+'_nt'+str(args.nt)+'_Nx'+str(args.Nx)+'_Re'+str(args.Re)+'_vode.pkl', 'wb') as output:\n",
    "    pickle.dump(data_dict, output, pickle.HIGHEST_PROTOCOL)"
   ]
  },
  {
   "cell_type": "code",
   "execution_count": 11,
   "metadata": {},
   "outputs": [
    {
     "data": {
      "image/png": "[encoded data removed]",
      "text/plain": [
       "<Figure size 1296x288 with 6 Axes>"
      ]
     },
     "metadata": {},
     "output_type": "display_data"
    }
   ],
   "source": [
    "## # First plot the solution on the original grid\n",
    "###########################################################\n",
    "fig = plt.figure(figsize=(18, 4), facecolor='white')\n",
    "ax_u = fig.add_subplot(131)\n",
    "ax_u_analy = fig.add_subplot(132)\n",
    "ax_u_diff = fig.add_subplot(133)\n",
    "\n",
    "X, T = np.meshgrid(grid_obj.x_grid, t.numpy())\n",
    "\n",
    "ax_u.cla()\n",
    "ax_u.set_title('Numerical Solution')\n",
    "ax_u.set_xlabel('x')\n",
    "ax_u.set_ylabel('t')\n",
    "plot = ax_u.contourf(X, T, tf.squeeze(u, axis=1).numpy(), cmap=cm.coolwarm,\n",
    "                           antialiased=False, levels=np.linspace(0, 3., 20), extend='min')\n",
    "ax_u.set_xlim(grid_obj.x_grid[0], grid_obj.x_grid[-1])\n",
    "ax_u.set_ylim(t[0], t[-1])\n",
    "plt.colorbar(plot, ax=ax_u, shrink=0.5, aspect=10)\n",
    "\n",
    "###########################################################\n",
    "# Plot analytical solution\n",
    "###########################################################\n",
    "ad_eqn_ana_inst = ad_eqn_analy(grid_obj.x_grid, args)\n",
    "\n",
    "u_analy = []\n",
    "\n",
    "for i in range(args.nt):\n",
    "    u_analy.append(tf.expand_dims(ad_eqn_ana_inst(t[i]), axis = 1))\n",
    "    \n",
    "u_analy = tf.concat(u_analy, axis=0)\n",
    "\n",
    "ax_u_analy.cla()\n",
    "ax_u_analy.set_title('Analytical Solution')\n",
    "ax_u_analy.set_xlabel('x')\n",
    "ax_u_analy.set_ylabel('t')\n",
    "plot = ax_u_analy.contourf(X, T, tf.squeeze(u_analy, axis=1).numpy(), cmap=cm.coolwarm,\n",
    "                           antialiased=False, levels=np.linspace(0, 3., 20), extend='min')\n",
    "ax_u_analy.set_xlim(grid_obj.x_grid[0], grid_obj.x_grid[-1])\n",
    "ax_u_analy.set_ylim(t[0], t[-1])\n",
    "plt.colorbar(plot, ax=ax_u_analy, shrink=0.5, aspect=10)\n",
    "\n",
    "###########################################################\n",
    "# Plot difference w.r.t. analytical solution\n",
    "###########################################################\n",
    "\n",
    "ax_u_diff.cla()\n",
    "ax_u_diff.set_title('Diff. with Analytical Solution')\n",
    "ax_u_diff.set_xlabel('x')\n",
    "ax_u_diff.set_ylabel('t')\n",
    "plot = ax_u_diff.contourf(X, T, tf.squeeze(tf.abs(u - u_analy), axis=1).numpy(), cmap=cm.coolwarm,\n",
    "                           antialiased=False, levels=np.linspace(0, 2., 20))\n",
    "ax_u_diff.set_xlim(grid_obj.x_grid[0], grid_obj.x_grid[-1])\n",
    "ax_u_diff.set_ylim(t[0], t[-1])\n",
    "plt.colorbar(plot, ax=ax_u_diff, shrink=0.5, aspect=10)\n",
    "\n",
    "fig.show()"
   ]
  },
  {
   "cell_type": "code",
   "execution_count": 12,
   "metadata": {},
   "outputs": [],
   "source": [
    "class compute_error():\n",
    "    \n",
    "    def __init__(self, truth, thres = 0.02):\n",
    "        self.truth = truth\n",
    "        self.thres = thres\n",
    "        \n",
    "    def l2_error(self, pred):\n",
    "        \n",
    "        error = tf.reduce_mean(tf.sqrt(tf.reduce_mean(tf.math.squared_difference(pred, self.truth), axis=-1)), axis=0)\n",
    "        \n",
    "        return np.squeeze(error.numpy())\n",
    "    \n",
    "    def RMSE(self, pred):\n",
    "        \n",
    "        thres = tf.reduce_max(self.truth)*self.thres\n",
    "        error = []\n",
    "        diff = pred - self.truth\n",
    "        \n",
    "        for i in range(1, pred.shape[0]):\n",
    "            diff_t = np.abs(np.squeeze(diff[i, :, :].numpy()))\n",
    "            error_t = diff_t[np.where(diff_t >= thres)]\n",
    "            if len(error_t) == 0: continue\n",
    "            error_t = np.sqrt(np.sum(error_t**2)/len(error_t))\n",
    "            error.append(error_t)\n",
    "\n",
    "        error = np.mean(np.array(error))\n",
    "        return error"
   ]
  },
  {
   "cell_type": "code",
   "execution_count": 13,
   "metadata": {},
   "outputs": [],
   "source": [
    "err_obj = compute_error(u_analy)"
   ]
  },
  {
   "cell_type": "code",
   "execution_count": 14,
   "metadata": {},
   "outputs": [
    {
     "data": {
      "text/plain": [
       "array(0.02509284, dtype=float32)"
      ]
     },
     "execution_count": 14,
     "metadata": {},
     "output_type": "execute_result"
    }
   ],
   "source": [
    "err_obj.l2_error(u)"
   ]
  },
  {
   "cell_type": "code",
   "execution_count": 15,
   "metadata": {},
   "outputs": [
    {
     "data": {
      "text/plain": [
       "0.08593605982015257"
      ]
     },
     "execution_count": 15,
     "metadata": {},
     "output_type": "execute_result"
    }
   ],
   "source": [
    "err_obj.RMSE(u)"
   ]
  },
  {
   "cell_type": "code",
   "execution_count": 16,
   "metadata": {},
   "outputs": [
    {
     "data": {
      "text/plain": [
       "[<matplotlib.lines.Line2D at 0x7fa4e8237cd0>]"
      ]
     },
     "execution_count": 16,
     "metadata": {},
     "output_type": "execute_result"
    },
    {
     "data": {
      "image/png": "[encoded data removed]",
      "text/plain": [
       "<Figure size 432x288 with 1 Axes>"
      ]
     },
     "metadata": {
      "needs_background": "light"
     },
     "output_type": "display_data"
    }
   ],
   "source": [
    "plt.plot(grid_obj.x_grid, u[0, 0, :])\n",
    "plt.plot(grid_obj.x_grid, u_analy[0, 0, :])"
   ]
  },
  {
   "cell_type": "code",
   "execution_count": 17,
   "metadata": {},
   "outputs": [
    {
     "data": {
      "text/plain": [
       "[<matplotlib.lines.Line2D at 0x7fa4e8218be0>]"
      ]
     },
     "execution_count": 17,
     "metadata": {},
     "output_type": "execute_result"
    },
    {
     "data": {
      "image/png": "[encoded data removed]",
      "text/plain": [
       "<Figure size 432x288 with 1 Axes>"
      ]
     },
     "metadata": {
      "needs_background": "light"
     },
     "output_type": "display_data"
    }
   ],
   "source": [
    "plt.plot(grid_obj.x_grid, np.einsum('ab, cb -> ca', sol_obj.full_vander_dx, u[:, 0, :].numpy())[0, ])"
   ]
  },
  {
   "cell_type": "code",
   "execution_count": 18,
   "metadata": {},
   "outputs": [
    {
     "data": {
      "text/plain": [
       "[<matplotlib.lines.Line2D at 0x7fa4e8174820>,\n",
       " <matplotlib.lines.Line2D at 0x7fa4e8174850>]"
      ]
     },
     "execution_count": 18,
     "metadata": {},
     "output_type": "execute_result"
    },
    {
     "data": {
      "image/png": "[encoded data removed]",
      "text/plain": [
       "<Figure size 432x288 with 1 Axes>"
      ]
     },
     "metadata": {
      "needs_background": "light"
     },
     "output_type": "display_data"
    }
   ],
   "source": [
    "plt.plot(grid_obj.x_grid, np.einsum('ab, cb -> ca', sol_obj.deriv_obj.vander(grid_obj.x_grid, m=3, acc=2), u[:, 0, :].numpy())[0, ], \n",
    "        grid_obj.x_grid, np.einsum('ab, cb -> ca', sol_obj.deriv_obj.vander(grid_obj.x_grid, m=3, acc=4), u[:, 0, :].numpy())[0, ])"
   ]
  },
  {
   "cell_type": "code",
   "execution_count": 19,
   "metadata": {},
   "outputs": [
    {
     "data": {
      "image/png": "[encoded data removed]",
      "text/plain": [
       "<Figure size 432x288 with 1 Axes>"
      ]
     },
     "metadata": {
      "needs_background": "light"
     },
     "output_type": "display_data"
    }
   ],
   "source": [
    "fig, ax = plt.subplots()\n",
    "line, = plt.plot([], [], 'o-', lw=2)\n",
    "labels = ['Numerical', 'Analytical']\n",
    "\n",
    "plotlays, plotcols = [3], [\"blue\",\"red\"]\n",
    "lines = []\n",
    "for index in range(2):\n",
    "    lobj = ax.plot([],[], 'o-', lw=2,color=plotcols[index])[0]\n",
    "    lines.append(lobj)\n",
    "\n",
    "def init():\n",
    "    ax.set_xlim(0, 1.)\n",
    "    ax.set_ylim(0, 0.5)\n",
    "    ax.set_xlabel('x')\n",
    "    ax.set_ylabel('u')\n",
    "    \n",
    "    for line in lines:\n",
    "        line.set_data([],[])\n",
    "    return lines\n",
    "\n",
    "def update(frame):\n",
    "    xdata = [grid_obj.x_grid, grid_obj.x_grid]\n",
    "    ydata = [tf.squeeze(u, axis=1).numpy()[frame, :], tf.squeeze(u_analy, axis=1).numpy()[frame, :]]\n",
    "    \n",
    "    for lnum,line in enumerate(lines):\n",
    "        line.set_data(xdata[lnum], ydata[lnum]) # set data for each line separately.\n",
    "        line.set_label(labels[lnum])\n",
    "        ax.legend(loc=\"upper right\")\n",
    "\n",
    "        fig.gca().autoscale_view()\n",
    "        fig.gca().relim()\n",
    "    return lines \n",
    "\n",
    "ani = FuncAnimation(fig, update, frames=np.arange(len(t.numpy())),\n",
    "                    init_func=init, blit=True, interval=60)\n",
    "\n",
    "ani.save('filename_res_Re'+str(args.Re)+'_Nx'+str(args.Nx)+'.gif', writer=PillowWriter(fps=24))"
   ]
  },
  {
   "cell_type": "code",
   "execution_count": null,
   "metadata": {},
   "outputs": [],
   "source": []
  }
 ],
 "metadata": {
  "colab": {
   "authorship_tag": "ABX9TyMTFHavwXcrFtCMYLqCbZef",
   "name": "Lorenz_system.ipynb",
   "provenance": []
  },
  "kernelspec": {
   "display_name": "Python 3",
   "language": "python",
   "name": "python3"
  },
  "language_info": {
   "codemirror_mode": {
    "name": "ipython",
    "version": 3
   },
   "file_extension": ".py",
   "mimetype": "text/x-python",
   "name": "python",
   "nbconvert_exporter": "python",
   "pygments_lexer": "ipython3",
   "version": "3.8.8"
  }
 },
 "nbformat": 4,
 "nbformat_minor": 1
}
