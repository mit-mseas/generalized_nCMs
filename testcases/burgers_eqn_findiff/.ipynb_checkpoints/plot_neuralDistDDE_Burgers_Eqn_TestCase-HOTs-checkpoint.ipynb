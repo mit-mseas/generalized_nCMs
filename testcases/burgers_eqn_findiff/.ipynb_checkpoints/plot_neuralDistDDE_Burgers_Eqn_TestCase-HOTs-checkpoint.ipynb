{
 "cells": [
  {
   "cell_type": "code",
   "execution_count": 1,
   "metadata": {
    "executionInfo": {
     "elapsed": 473,
     "status": "ok",
     "timestamp": 1601157808403,
     "user": {
      "displayName": "Abhinav Gupta",
      "photoUrl": "https://lh3.googleusercontent.com/a-/AOh14GgMtMT5ccMf8GLgQ3yu6fAY2d6upCEZXfzS-5A6Cg=s64",
      "userId": "02552889854388316189"
     },
     "user_tz": 240
    },
    "id": "mgv1axkGNvut"
   },
   "outputs": [],
   "source": [
    "basedir = '/home/abhinavgupta0110/generalized_nCM'\n",
    "\n",
    "import os\n",
    "\n",
    "is_google_colab = False\n",
    "is_use_GPU = False"
   ]
  },
  {
   "cell_type": "markdown",
   "metadata": {
    "id": "Jq_2LQ9UHud0"
   },
   "source": [
    "### Mount the Google drive if needed"
   ]
  },
  {
   "cell_type": "code",
   "execution_count": 2,
   "metadata": {
    "colab": {
     "base_uri": "https://localhost:8080/",
     "height": 527
    },
    "executionInfo": {
     "elapsed": 3215,
     "status": "ok",
     "timestamp": 1601157811162,
     "user": {
      "displayName": "Abhinav Gupta",
      "photoUrl": "https://lh3.googleusercontent.com/a-/AOh14GgMtMT5ccMf8GLgQ3yu6fAY2d6upCEZXfzS-5A6Cg=s64",
      "userId": "02552889854388316189"
     },
     "user_tz": 240
    },
    "id": "IMm0YJf40nu4",
    "outputId": "9bbe83de-ba06-439f-c578-dc21947bab04"
   },
   "outputs": [],
   "source": [
    "if is_use_GPU:\n",
    "    gpu_info = !nvidia-smi\n",
    "    gpu_info = '\\n'.join(gpu_info)\n",
    "    if gpu_info.find('failed') >= 0:\n",
    "        print('No GPU found!')\n",
    "    else:\n",
    "        print(gpu_info)\n",
    "\n",
    "if is_google_colab:\n",
    "    from google.colab import drive\n",
    "    drive.mount('/content/drive')\n",
    "\n",
    "    %pip install quadpy\n",
    "    \n",
    "os.chdir(os.path.join(basedir, 'generalized_nCMs'))\n",
    "\n",
    "%load_ext autoreload"
   ]
  },
  {
   "cell_type": "markdown",
   "metadata": {
    "id": "4Ypp2-6vHzUD"
   },
   "source": [
    "### Load modules"
   ]
  },
  {
   "cell_type": "code",
   "execution_count": 3,
   "metadata": {
    "executionInfo": {
     "elapsed": 6324,
     "status": "ok",
     "timestamp": 1601157814287,
     "user": {
      "displayName": "Abhinav Gupta",
      "photoUrl": "https://lh3.googleusercontent.com/a-/AOh14GgMtMT5ccMf8GLgQ3yu6fAY2d6upCEZXfzS-5A6Cg=s64",
      "userId": "02552889854388316189"
     },
     "user_tz": 240
    },
    "id": "-MrPJTQD3Xz4"
   },
   "outputs": [
    {
     "name": "stdout",
     "output_type": "stream",
     "text": [
      "2.5.0\n"
     ]
    }
   ],
   "source": [
    "%autoreload 2\n",
    "\n",
    "from src.utilities.DDE_Solver import ddeinttf \n",
    "from src.utilities.helper_classes import * \n",
    "import src.solvers.neuralDistDDE_train_HOTs as ncm\n",
    "import src.burgers_eqn_case_findiff.burgers_eqn as burg\n",
    "from src.burgers_eqn_case_findiff.burgers_eqn_helper_classes import * \n",
    "\n",
    "import time\n",
    "import sys\n",
    "from IPython.core.debugger import set_trace\n",
    "\n",
    "import numpy as np\n",
    "import scipy as spy\n",
    "import tensorflow as tf\n",
    "import matplotlib.pyplot as plt\n",
    "from matplotlib import cm\n",
    "from shutil import move\n",
    "import pickle\n",
    "\n",
    "print(tf.__version__)\n",
    "\n",
    "tf.keras.backend.set_floatx('float32')\n",
    "import logging\n",
    "tf.get_logger().setLevel(logging.ERROR)"
   ]
  },
  {
   "cell_type": "markdown",
   "metadata": {
    "id": "B6M2Jp_VH7k_"
   },
   "source": [
    "## Define some useful classes"
   ]
  },
  {
   "cell_type": "markdown",
   "metadata": {
    "id": "sAACaFzjH8tF"
   },
   "source": [
    "### Class for user-defined arguments"
   ]
  },
  {
   "cell_type": "code",
   "execution_count": 4,
   "metadata": {
    "executionInfo": {
     "elapsed": 6307,
     "status": "ok",
     "timestamp": 1601157814291,
     "user": {
      "displayName": "Abhinav Gupta",
      "photoUrl": "https://lh3.googleusercontent.com/a-/AOh14GgMtMT5ccMf8GLgQ3yu6fAY2d6upCEZXfzS-5A6Cg=s64",
      "userId": "02552889854388316189"
     },
     "user_tz": 240
    },
    "id": "SuiPlZi330MR"
   },
   "outputs": [],
   "source": [
    "class burg_ncm_args(ncm.ncm_arguments, burg.burg_args):\n",
    "\n",
    "    def __init__(self, batch_time = 12, batch_time_skip = 2, batch_size = 5, epochs = 500, learning_rate = 0.05, \n",
    "                 decay_rate = 0.95, test_freq = 1, plot_freq = 2, \n",
    "                 tau_max = 1.1, tau = 0.2,\n",
    "                 model_dir = 'ROM_nDistDDE_testcase/model_dir_test', restart = 0, val_percentage = 0.2,\n",
    "                 T = 2., nt = 200, \n",
    "                 train_ens_size = 1, x_left = [0.], x_right = [1.], nx_train_hf = [100], nx_train_lf = [25], Re = [250], \n",
    "                 dleft_bv_dt = [0.], dright_bv_dt = [0.], dbc_l = [1], nbc_l = [0], dbc_r = [1], nbc_r = [0],\n",
    "                 isplot = True, is_tstart_zero = True, \n",
    "                 ode_alg_name = 'dopri5', nsteps = 1, ens_to_plot = -1, read_hf_data = 0, read_hf_data_fac = 4, \n",
    "                 use_analytical_sol = 0, lambda_l1_mark = 0., lambda_l2_mark = 0., \n",
    "                 lambda_l1_non_mark = 0., lambda_l2_non_mark = 0., prune_thres = 0., mse_weight = 0., max_deriv = 2,\n",
    "                 acc = 2, acc_advec = 1, norm_Re = 1000, norm_nx = 50): # add more arguments as needed\n",
    "        \n",
    "        ncm.ncm_arguments.__init__(self, data_size = nt, batch_time = batch_time, batch_time_skip = batch_time_skip, batch_size = batch_size, epochs = epochs,\n",
    "                           learning_rate = learning_rate, decay_rate = decay_rate, test_freq = test_freq, plot_freq = plot_freq, \n",
    "                           tau_max = tau_max, tau = tau, model_dir = model_dir, restart = restart, val_percentage = val_percentage, \n",
    "                           isplot = isplot, is_tstart_zero = is_tstart_zero)\n",
    "        \n",
    "        self.args_train_hf = []\n",
    "        for i in range(train_ens_size):\n",
    "            self.args_train_hf.append(burg.burg_args(T = T, nt = nt, x_left = x_left[i], x_right = x_right[i], Nx = nx_train_hf[i], Re = Re[i], \n",
    "                                         dleft_bv_dt = dleft_bv_dt[i], dright_bv_dt = dright_bv_dt[i], dbc_l = dbc_l[i], \n",
    "                                         nbc_l = nbc_l[i], dbc_r = dbc_r[i], nbc_r = nbc_r[i], max_deriv = max_deriv, \n",
    "                                         acc = acc, acc_advec = acc_advec))\n",
    "            \n",
    "        self.args_train_lf = []\n",
    "        for i in range(train_ens_size):\n",
    "            self.args_train_lf.append(burg.burg_args(T = T, nt = nt, x_left = x_left[i], x_right = x_right[i], Nx = nx_train_lf[i], Re = Re[i], \n",
    "                                         dleft_bv_dt = dleft_bv_dt[i], dright_bv_dt = dright_bv_dt[i], dbc_l = dbc_l[i], \n",
    "                                         nbc_l = nbc_l[i], dbc_r = dbc_r[i], nbc_r = nbc_r[i], max_deriv = max_deriv,\n",
    "                                         acc = acc, acc_advec = acc_advec))\n",
    "        \n",
    "        self.train_ens_size = train_ens_size\n",
    "        i = ens_to_plot\n",
    "        self.args_eval_hf = burg.burg_args(T = T, nt = nt, x_left = x_left[i], x_right = x_right[i], Nx = nx_train_hf[i], Re = Re[i], \n",
    "                                         dleft_bv_dt = dleft_bv_dt[i], dright_bv_dt = dright_bv_dt[i], dbc_l = dbc_l[i], \n",
    "                                         nbc_l = nbc_l[i], dbc_r = dbc_r[i], nbc_r = nbc_r[i], max_deriv = max_deriv,\n",
    "                                         acc = acc, acc_advec = acc_advec)\n",
    "        self.args_eval_lf = burg.burg_args(T = T, nt = nt, x_left = x_left[i], x_right = x_right[i], Nx = nx_train_lf[i], Re = Re[i], \n",
    "                                         dleft_bv_dt = dleft_bv_dt[i], dright_bv_dt = dright_bv_dt[i], dbc_l = dbc_l[i], \n",
    "                                         nbc_l = nbc_l[i], dbc_r = dbc_r[i], nbc_r = nbc_r[i], max_deriv = max_deriv,\n",
    "                                         acc = acc, acc_advec = acc_advec)\n",
    "        \n",
    "        self.args_norm = burg.burg_args(T = T, nt = nt, x_left = x_left[i], x_right = x_right[i], Nx = norm_nx, Re = norm_Re, \n",
    "                                         dleft_bv_dt = dleft_bv_dt[i], dright_bv_dt = dright_bv_dt[i], dbc_l = dbc_l[i], \n",
    "                                         nbc_l = nbc_l[i], dbc_r = dbc_r[i], nbc_r = nbc_r[i], max_deriv = max_deriv,\n",
    "                                         acc = acc, acc_advec = acc_advec)\n",
    "        \n",
    "        self.ode_alg_name = ode_alg_name\n",
    "        self.nsteps = nsteps\n",
    "        self.read_hf_data = read_hf_data\n",
    "        self.read_hf_data_fac = read_hf_data_fac\n",
    "        self.use_analytical_sol = use_analytical_sol\n",
    "        \n",
    "        self.lambda_l1_mark = lambda_l1_mark\n",
    "        self.lambda_l2_mark = lambda_l2_mark\n",
    "        self.lambda_l1_non_mark = lambda_l1_non_mark\n",
    "        self.lambda_l2_non_mark = lambda_l2_non_mark\n",
    "        self.prune_thres = prune_thres\n",
    "        self.mse_weight = mse_weight"
   ]
  },
  {
   "cell_type": "markdown",
   "metadata": {
    "id": "Bgp85pBOIHjP"
   },
   "source": [
    "### Define the neural net architecture"
   ]
  },
  {
   "cell_type": "code",
   "execution_count": 5,
   "metadata": {
    "executionInfo": {
     "elapsed": 94566,
     "status": "ok",
     "timestamp": 1601157902651,
     "user": {
      "displayName": "Abhinav Gupta",
      "photoUrl": "https://lh3.googleusercontent.com/a-/AOh14GgMtMT5ccMf8GLgQ3yu6fAY2d6upCEZXfzS-5A6Cg=s64",
      "userId": "02552889854388316189"
     },
     "user_tz": 240
    },
    "id": "XAC5aK2hoPtM"
   },
   "outputs": [],
   "source": [
    "class NNFunc_mark(tf.keras.Model):\n",
    "\n",
    "    def __init__(self, **kwargs):\n",
    "        super(NNFunc_mark, self).__init__(**kwargs)\n",
    "        \n",
    "        self.out = tf.keras.layers.Dense(1, activation='linear',\n",
    "                                       kernel_initializer=tf.keras.initializers.TruncatedNormal(stddev=0.001), use_bias=False)\n",
    "        \n",
    "    \n",
    "    def norm_init(self, norm_const, dx, nu):\n",
    "        self.norm_const = norm_const\n",
    "        self.nu = tf.stack([nu, nu, nu], axis=-1)\n",
    "        self.dx_lin = tf.stack([dx**(-2), dx**(-1), dx**0], axis=-1)\n",
    "        self.dx_itself = tf.stack([dx**(-1), dx**1, dx**3], axis=-1)\n",
    "        self.dx_mult = tf.stack([dx**0, dx**2, dx**1], axis=-1)\n",
    "        \n",
    "    def process_input(self, y, shp):     \n",
    "               \n",
    "        y = tf.reshape(y, shp)\n",
    "        \n",
    "        return y\n",
    "    \n",
    "    @tf.function\n",
    "    def pass_layers(self, z):\n",
    "        \n",
    "        for i in range(len(self.layers)):\n",
    "            z = self.layers[i](z)\n",
    "            \n",
    "        return z\n",
    "    \n",
    "    def call(self, z):\n",
    "        \n",
    "        z_shp = tf.shape(z)\n",
    "        \n",
    "        z = self.process_input(z, [-1, z_shp[-1]])\n",
    "        \n",
    "        z = tf.cast(z, tf.float64)\n",
    "        \n",
    "        dx_lin = tf.tile(self.dx_lin, tf.constant([z.shape[0], 1]))\n",
    "        dx_itself = tf.tile(self.dx_itself, tf.constant([z.shape[0], 1]))\n",
    "        dx_mult = tf.tile(self.dx_mult, tf.constant([z.shape[0], 1]))\n",
    "        nu = tf.tile(self.nu, tf.constant([z.shape[0], 1]))\n",
    "        \n",
    "        z_lin = tf.einsum('ab, ab -> ab', z, dx_lin)\n",
    "        z_lin = tf.einsum('ab, ab -> ab', z_lin, nu)\n",
    "        \n",
    "        z_itself = tf.einsum('ab, ab -> ab', z, z)\n",
    "        z_itself = tf.einsum('ab, ab -> ab', z_itself, dx_itself)\n",
    "        \n",
    "        z_mult = tf.einsum('ab, ab -> ab', z, tf.roll(z, shift = -1, axis = -1))\n",
    "        z_mult = tf.einsum('ab, ab -> ab', z_mult, dx_mult)   \n",
    "        \n",
    "        z = tf.cast(tf.concat([z_itself[:, 1:], z_mult[:, 1:]], axis=-1), tf.float32)\n",
    "        \n",
    "        z = self.pass_layers(tf.cast(z, tf.float32))\n",
    "        \n",
    "        z = self.process_input(z, z_shp[0:-1])\n",
    "        \n",
    "        return z"
   ]
  },
  {
   "cell_type": "code",
   "execution_count": 6,
   "metadata": {},
   "outputs": [],
   "source": [
    "class NNFunc(tf.keras.Model):\n",
    "\n",
    "    def __init__(self, **kwargs):\n",
    "        super(NNFunc, self).__init__(**kwargs)\n",
    "        \n",
    "        self.x1 = tf.keras.layers.Dense(10, activation='swish',\n",
    "                                       kernel_initializer=tf.keras.initializers.TruncatedNormal(stddev=0.1), use_bias=False)\n",
    "        \n",
    "        self.x2 = tf.keras.layers.Dense(7, activation='swish',\n",
    "                                       kernel_initializer=tf.keras.initializers.TruncatedNormal(stddev=0.1), use_bias=False)\n",
    "        \n",
    "        self.x3 = tf.keras.layers.Dense(5, activation='swish',\n",
    "                                       kernel_initializer=tf.keras.initializers.TruncatedNormal(stddev=0.1), use_bias=False)\n",
    "        \n",
    "        self.x4 = tf.keras.layers.Dense(5, activation='swish',\n",
    "                                       kernel_initializer=tf.keras.initializers.TruncatedNormal(stddev=0.1), use_bias=False)\n",
    "        \n",
    "        self.x5 = tf.keras.layers.Dense(3, activation='swish',\n",
    "                                       kernel_initializer=tf.keras.initializers.TruncatedNormal(stddev=0.1), use_bias=False)\n",
    "        \n",
    "        self.out = tf.keras.layers.Dense(1, activation='linear',\n",
    "                                       kernel_initializer=tf.keras.initializers.TruncatedNormal(stddev=0.001), use_bias=False)\n",
    "        \n",
    "    def norm_init(self, norm_const, dx, nu):\n",
    "        self.norm_const = norm_const\n",
    "        self.nu = tf.expand_dims(nu, axis=-1)\n",
    "        self.dx = tf.expand_dims(dx, axis=-1)\n",
    "    \n",
    "    def process_input(self, y, shp):     \n",
    "               \n",
    "        y = tf.reshape(y, shp)\n",
    "        \n",
    "        return y\n",
    "    \n",
    "    @tf.function\n",
    "    def pass_layers(self, z):\n",
    "        \n",
    "        for i in range(len(self.layers)):\n",
    "            z = self.layers[i](z)\n",
    "            \n",
    "        return z\n",
    "    \n",
    "    def call(self, z):\n",
    "        \n",
    "        z_shp = tf.shape(z)\n",
    "        \n",
    "        z = self.process_input(z, [-1, z_shp[-1]])\n",
    "        \n",
    "        z = tf.cast(z, tf.float64)\n",
    "        \n",
    "        u = tf.abs(z[:, 0:1])\n",
    "        \n",
    "        dx = tf.tile(self.dx, tf.constant([z.shape[0], 1]))\n",
    "        nu = tf.tile(self.nu, tf.constant([z.shape[0], 1]))\n",
    "        \n",
    "        z = tf.cast(tf.concat([z, nu, dx], axis=-1), tf.float32)\n",
    "        \n",
    "        z = self.pass_layers(tf.cast(z, tf.float32))\n",
    "        \n",
    "        z = tf.cast(tf.einsum('ab, ab -> ab', tf.cast(z, tf.float64), u), tf.float32)\n",
    "        \n",
    "        z = self.process_input(z, z_shp[0:-1])\n",
    "        \n",
    "        return z"
   ]
  },
  {
   "cell_type": "code",
   "execution_count": 7,
   "metadata": {},
   "outputs": [],
   "source": [
    "class split_zy:\n",
    "    def __init__(self, zy, args):\n",
    "        self.zy = zy\n",
    "        self.args = args\n",
    "\n",
    "    def get_z(self, t):\n",
    "        return self.zy(t)[:, :self.args.state_dim]\n",
    "    \n",
    "    def get_y(self, t):\n",
    "        return self.zy(t)[:, self.args.state_dim:]"
   ]
  },
  {
   "cell_type": "code",
   "execution_count": 8,
   "metadata": {},
   "outputs": [],
   "source": [
    "class DistDDEFunc(tf.keras.Model):\n",
    "\n",
    "    def __init__(self, mark_nn_part, non_mark_nn_part, rom_model, app, norm_const, **kwargs):\n",
    "        super(DistDDEFunc, self).__init__(**kwargs)\n",
    "        self.non_mark_nn_part = non_mark_nn_part\n",
    "        self.mark_nn_part = mark_nn_part\n",
    "        \n",
    "        dx = rom_model.grid.x_grid[1] - rom_model.grid.x_grid[0]\n",
    "        dx = tf.convert_to_tensor([dx])\n",
    "        nu = tf.convert_to_tensor([app.nu], tf.float64)\n",
    "        self.mark_nn_part.norm_init(norm_const, dx, nu)\n",
    "        \n",
    "        dx = dx #/ ((args.args_eval_hf.x_right - args.args_eval_hf.x_left) / (50 - 1))\n",
    "        \n",
    "        nu = nu #/ (1./500.)\n",
    "\n",
    "        self.non_mark_nn_part.norm_init(norm_const, dx, nu)\n",
    "        \n",
    "        self.rom_model = rom_model\n",
    "        self.args = app\n",
    "        \n",
    "    def overwrite_rom(self, app, rom_model, norm_const):\n",
    "        self.rom_model = rom_model\n",
    "        dx = rom_model.grid.x_grid[1] - rom_model.grid.x_grid[0]\n",
    "        dx = tf.convert_to_tensor([dx])\n",
    "        nu = tf.convert_to_tensor([app.nu], tf.float64)\n",
    "        self.mark_nn_part.norm_init(norm_const, dx, nu)\n",
    "        \n",
    "        dx = dx #/ ((args.args_eval_hf.x_right - args.args_eval_hf.x_left) / (50 - 1))\n",
    "        \n",
    "        nu = nu #/ (1./500.)\n",
    "\n",
    "        self.non_mark_nn_part.norm_init(norm_const, dx, nu)\n",
    "        self.args = app\n",
    "        \n",
    "    def process_input(self, zy, t ,tau, flag_fwd=0):     \n",
    "        \n",
    "        input = [self.compute_derivatives(zy(t)[:, :self.args.state_dim], flag_fwd)]\n",
    "        input.append(self.compute_derivatives(zy(t - tau)[:, :self.args.state_dim], flag_fwd))\n",
    "        \n",
    "        return input\n",
    "    \n",
    "    def call_non_mark_nn_part(self, input):\n",
    "        \n",
    "        gz_t1 = self.non_mark_nn_part(input[0])\n",
    "        gz_t2 = self.non_mark_nn_part(input[1])\n",
    "        dy_dt = gz_t1 - gz_t2\n",
    "        \n",
    "        return dy_dt\n",
    "    \n",
    "    def call_nn_part_indiv(self, z, flag_mark = 0, flag_fwd = 0):\n",
    "        \n",
    "        z = self.compute_derivatives(z, flag_fwd)\n",
    "        \n",
    "        if flag_mark == 0:\n",
    "            return self.non_mark_nn_part(z)\n",
    "        else:\n",
    "            return self.mark_nn_part(z)\n",
    "    \n",
    "    def compute_derivatives(self, u, flag_fwd = 0):\n",
    "        if flag_fwd:\n",
    "            u_x = np.einsum('ab, cb -> ca', self.rom_model.full_vander_dx_upwind, u.numpy())\n",
    "        else:\n",
    "            u_x = np.einsum('ab, cb -> ca', self.rom_model.full_vander_dx, u.numpy())\n",
    "        \n",
    "        u_stack = [u, u_x]\n",
    "        \n",
    "        for i in range(2, self.args.max_deriv+1):\n",
    "            u_stack.append(np.einsum('ab, cb -> ca', self.rom_model.full_vander[i], u.numpy()))\n",
    "        \n",
    "        u_stack = tf.convert_to_tensor(np.stack(u_stack, axis=-1))\n",
    "        \n",
    "        return u_stack\n",
    "\n",
    "    def __call__(self, uy, t ,tau, t_start = np.array([0.])):\n",
    "        \n",
    "        get_y = split_zy(uy, self.args).get_y(t).numpy()       \n",
    "        \n",
    "        input = self.process_input(uy, t ,tau, flag_fwd=1)\n",
    "        dy_dt = self.call_non_mark_nn_part(input) # y does include boundaries\n",
    "        \n",
    "        u_t = input[0][:, :, 0]\n",
    "        u_t_int = u_t[:, self.args.max_deriv - 1:-(self.args.max_deriv - 1)]\n",
    "        \n",
    "        du_dt_int = self.rom_model.rhs_int(t, u_t.numpy(), u_t_int.numpy())\n",
    "        \n",
    "        du_dt_int = du_dt_int + self.call_nn_part_indiv(u_t, flag_mark = 1, flag_fwd=1)[:, self.args.max_deriv - 1:-(self.args.max_deriv - 1)].numpy() + get_y[:, self.args.max_deriv - 1:-(self.args.max_deriv - 1)]\n",
    "        \n",
    "        du_dt_bnd = self.rom_model.boundary(t, u_t.numpy(), du_dt_int)\n",
    "        \n",
    "        du_dt = np.concatenate((du_dt_bnd[:, 0:self.args.max_deriv - 1], du_dt_int, du_dt_bnd[:, self.args.max_deriv - 1:]), axis=-1)\n",
    "        \n",
    "        du_dt = tf.convert_to_tensor(du_dt, dtype=tf.float32)\n",
    "        \n",
    "        dzy_dt = tf.concat([du_dt, dy_dt], axis=-1)\n",
    "        \n",
    "        return dzy_dt"
   ]
  },
  {
   "cell_type": "markdown",
   "metadata": {
    "id": "55JqC28YIS6c"
   },
   "source": [
    "### Initialize model related parameters"
   ]
  },
  {
   "cell_type": "code",
   "execution_count": 9,
   "metadata": {
    "executionInfo": {
     "elapsed": 6247,
     "status": "ok",
     "timestamp": 1601157814295,
     "user": {
      "displayName": "Abhinav Gupta",
      "photoUrl": "https://lh3.googleusercontent.com/a-/AOh14GgMtMT5ccMf8GLgQ3yu6fAY2d6upCEZXfzS-5A6Cg=s64",
      "userId": "02552889854388316189"
     },
     "user_tz": 240
    },
    "id": "AYlTE72b4PE2"
   },
   "outputs": [],
   "source": [
    "args = burg_ncm_args(batch_time = 6*5, batch_time_skip = 6, batch_size = 1, epochs = 75, learning_rate = 0.025, \n",
    "                 decay_rate = 0.99, test_freq = 1, plot_freq = 1, tau_max = 0.5, tau = 0.075,\n",
    "                 model_dir = 'burgers_testcase_nDistDDE_v2/model_dir_case5f', restart = 0, val_percentage = 1.0,\n",
    "                 T = 4.0, nt = 400, train_ens_size = 1, x_left = [0.], x_right = [1.], \n",
    "                 nx_train_hf = [1000], nx_train_lf = [50], Re = [1000], \n",
    "                 dleft_bv_dt = [0.], dright_bv_dt = [0.], dbc_l = [1], nbc_l = [0], dbc_r = [1], \n",
    "                 nbc_r = [0], isplot = True, is_tstart_zero = True, \n",
    "                 ode_alg_name = 'vode', nsteps = 100, ens_to_plot = -1, read_hf_data = 0, read_hf_data_fac = 4, \n",
    "                 use_analytical_sol = 0, lambda_l1_mark = 1e-6, lambda_l2_mark = 1e-6, \n",
    "                 prune_thres = 5e-3, mse_weight = 0.1, max_deriv = 2,\n",
    "                 acc = 4, acc_advec = 1, norm_Re = 1000, norm_nx = 100)"
   ]
  },
  {
   "cell_type": "code",
   "execution_count": 11,
   "metadata": {},
   "outputs": [],
   "source": [
    "testcase_dir = 'generalized_nCMs/testcases/burgers_eqn_findiff'\n",
    "save_dir_obj = save_dir(args = args, basedir = basedir, testcase_dir = testcase_dir)"
   ]
  },
  {
   "cell_type": "markdown",
   "metadata": {},
   "source": [
    "### Run Setup"
   ]
  },
  {
   "cell_type": "code",
   "execution_count": 12,
   "metadata": {},
   "outputs": [
    {
     "name": "stderr",
     "output_type": "stream",
     "text": [
      "/home/abhinavgupta0110/anaconda3/lib/python3.8/site-packages/scipy/integrate/_ode.py:1013: UserWarning: vode: Excess work done on this call. (Perhaps wrong MF.)\n",
      "  warnings.warn('{:s}: {:s}'.format(self.__class__.__name__,\n"
     ]
    },
    {
     "name": "stdout",
     "output_type": "stream",
     "text": [
      "High resolution model done!\n",
      "Low resolution model done!\n"
     ]
    }
   ],
   "source": [
    "os.chdir(os.path.join(basedir, testcase_dir))\n",
    "\n",
    "%run -i setup"
   ]
  },
  {
   "cell_type": "markdown",
   "metadata": {
    "id": "o9mHAYKBI1vM"
   },
   "source": [
    "## Main part starts here"
   ]
  },
  {
   "cell_type": "markdown",
   "metadata": {
    "id": "pscaRbpsJE25"
   },
   "source": [
    "### Make objects and define learning-rate schedule"
   ]
  },
  {
   "cell_type": "code",
   "execution_count": 13,
   "metadata": {
    "executionInfo": {
     "elapsed": 94545,
     "status": "ok",
     "timestamp": 1601157902653,
     "user": {
      "displayName": "Abhinav Gupta",
      "photoUrl": "https://lh3.googleusercontent.com/a-/AOh14GgMtMT5ccMf8GLgQ3yu6fAY2d6upCEZXfzS-5A6Cg=s64",
      "userId": "02552889854388316189"
     },
     "user_tz": 240
    },
    "id": "cnb1m74W8a3l"
   },
   "outputs": [],
   "source": [
    "# create ROM RHS for evaluation\n",
    "grid_obj = fdgen.grid(args.args_eval_lf)\n",
    "deriv_obj = fdgen.deriv(args.args_eval_lf, grid_obj)\n",
    "\n",
    "eval_burg_obj = burg.burg_rhs(args = args.args_eval_lf, deriv_obj = deriv_obj, grid_obj = grid_obj)\n",
    "\n",
    "func = DistDDEFunc(NNFunc_mark(), NNFunc(), eval_burg_obj, args.args_eval_lf, norm_eval)\n",
    "\n",
    "plot_obj = custom_plot(tf.concat([true_u_low_res, val_true_u_low_res], axis=0), \n",
    "                       tf.concat([u_low_res, val_u_low_res], axis=0), \n",
    "                       tf.convert_to_tensor(fdgen.grid(args.args_eval_lf).x_grid_real), \n",
    "                       tf.concat([t, val_t], axis=0), save_dir_obj.figsave_dir, args.args_eval_lf, args.restart)\n",
    "\n",
    "val_obj = ncm.create_validation_set(true_u0, t, args)"
   ]
  },
  {
   "cell_type": "markdown",
   "metadata": {
    "id": "Ni3vuuA4JLWc"
   },
   "source": [
    "### Plot training time"
   ]
  },
  {
   "cell_type": "code",
   "execution_count": 14,
   "metadata": {
    "colab": {
     "base_uri": "https://localhost:8080/",
     "height": 248
    },
    "executionInfo": {
     "elapsed": 95492,
     "status": "ok",
     "timestamp": 1601157903608,
     "user": {
      "displayName": "Abhinav Gupta",
      "photoUrl": "https://lh3.googleusercontent.com/a-/AOh14GgMtMT5ccMf8GLgQ3yu6fAY2d6upCEZXfzS-5A6Cg=s64",
      "userId": "02552889854388316189"
     },
     "user_tz": 240
    },
    "id": "KhCfEgh9HnJ5",
    "outputId": "11ad8a81-105f-4ebb-e5a7-4593a2bf5df4"
   },
   "outputs": [
    {
     "data": {
      "text/plain": [
       "<tensorflow.python.training.tracking.util.CheckpointLoadStatus at 0x7fe40b48aca0>"
      ]
     },
     "execution_count": 14,
     "metadata": {},
     "output_type": "execute_result"
    }
   ],
   "source": [
    "func.load_weights(tf.train.latest_checkpoint(save_dir_obj.checkpoint_dir))"
   ]
  },
  {
   "cell_type": "code",
   "execution_count": 15,
   "metadata": {},
   "outputs": [],
   "source": [
    "process_true_z0 = ncm.process_DistDDE_IC(true_u0, func.call_nn_part_indiv, t_lowerlim = t[0] - args.tau, t_upperlim = t[0])\n",
    "pred_zy = ddeinttf(func, process_true_z0, tf.concat([t, val_t], axis=0), fargs=(args.tau,), alg_name = args.ode_alg_name, nsteps = args.nsteps)"
   ]
  },
  {
   "cell_type": "code",
   "execution_count": 16,
   "metadata": {},
   "outputs": [
    {
     "data": {
      "image/png": "[encoded data removed]",
      "text/plain": [
       "<Figure size 1008x720 with 8 Axes>"
      ]
     },
     "metadata": {},
     "output_type": "display_data"
    }
   ],
   "source": [
    "plot_obj.plot(pred_zy[:, :, :args.args_eval_lf.state_dim], epoch = 0)"
   ]
  },
  {
   "cell_type": "code",
   "execution_count": 17,
   "metadata": {},
   "outputs": [
    {
     "name": "stdout",
     "output_type": "stream",
     "text": [
      "Model: \"nn_func_mark\"\n",
      "_________________________________________________________________\n",
      "Layer (type)                 Output Shape              Param #   \n",
      "=================================================================\n",
      "dense (Dense)                multiple                  4         \n",
      "=================================================================\n",
      "Total params: 4\n",
      "Trainable params: 4\n",
      "Non-trainable params: 0\n",
      "_________________________________________________________________\n"
     ]
    }
   ],
   "source": [
    "func.mark_nn_part.summary()"
   ]
  },
  {
   "cell_type": "code",
   "execution_count": 18,
   "metadata": {},
   "outputs": [
    {
     "name": "stdout",
     "output_type": "stream",
     "text": [
      "Model: \"nn_func\"\n",
      "_________________________________________________________________\n",
      "Layer (type)                 Output Shape              Param #   \n",
      "=================================================================\n",
      "dense_1 (Dense)              multiple                  50        \n",
      "_________________________________________________________________\n",
      "dense_2 (Dense)              multiple                  70        \n",
      "_________________________________________________________________\n",
      "dense_3 (Dense)              multiple                  35        \n",
      "_________________________________________________________________\n",
      "dense_4 (Dense)              multiple                  25        \n",
      "_________________________________________________________________\n",
      "dense_5 (Dense)              multiple                  15        \n",
      "_________________________________________________________________\n",
      "dense_6 (Dense)              multiple                  3         \n",
      "=================================================================\n",
      "Total params: 198\n",
      "Trainable params: 198\n",
      "Non-trainable params: 0\n",
      "_________________________________________________________________\n"
     ]
    }
   ],
   "source": [
    "func.non_mark_nn_part.summary()"
   ]
  },
  {
   "cell_type": "code",
   "execution_count": 19,
   "metadata": {},
   "outputs": [],
   "source": [
    "class compute_error():\n",
    "    \n",
    "    def __init__(self, truth, thres = 0.02):\n",
    "        self.truth = truth\n",
    "        self.thres = thres\n",
    "        \n",
    "    def l2_error(self, pred):\n",
    "        \n",
    "        error = tf.reduce_mean(tf.sqrt(tf.reduce_mean(tf.math.squared_difference(pred, self.truth), axis=-1)), axis=0)\n",
    "        \n",
    "        return error.numpy()\n",
    "    \n",
    "    def RMSE(self, pred):\n",
    "        \n",
    "        thres = tf.reduce_max(self.truth)*self.thres\n",
    "        error = []\n",
    "        diff = pred - self.truth\n",
    "        \n",
    "        for i in range(1, pred.shape[0]):\n",
    "            diff_t = np.abs(np.squeeze(diff[i, :, :].numpy()))\n",
    "            error_t = diff_t[np.where(diff_t >= thres)]\n",
    "            if len(error_t) == 0: continue\n",
    "            error_t = np.sqrt(np.sum(error_t**2)/len(error_t))\n",
    "            error.append(error_t)\n",
    "\n",
    "        error = np.mean(np.array(error))\n",
    "        return error"
   ]
  },
  {
   "cell_type": "code",
   "execution_count": 20,
   "metadata": {},
   "outputs": [],
   "source": [
    "truth = tf.concat([true_u_low_res, val_true_u_low_res], axis=0)\n",
    "\n",
    "err_obj = compute_error(truth)"
   ]
  },
  {
   "cell_type": "code",
   "execution_count": 21,
   "metadata": {},
   "outputs": [
    {
     "data": {
      "text/plain": [
       "array([0.03220943], dtype=float32)"
      ]
     },
     "execution_count": 21,
     "metadata": {},
     "output_type": "execute_result"
    }
   ],
   "source": [
    "err_obj.l2_error(pred_zy[:, :, :args.args_eval_lf.state_dim])"
   ]
  },
  {
   "cell_type": "code",
   "execution_count": 23,
   "metadata": {},
   "outputs": [
    {
     "data": {
      "text/plain": [
       "<tf.Tensor: shape=(50,), dtype=float64, numpy=\n",
       "array([0.        , 0.02040816, 0.04081633, 0.06122449, 0.08163265,\n",
       "       0.10204082, 0.12244898, 0.14285714, 0.16326531, 0.18367347,\n",
       "       0.20408163, 0.2244898 , 0.24489796, 0.26530612, 0.28571429,\n",
       "       0.30612245, 0.32653061, 0.34693878, 0.36734694, 0.3877551 ,\n",
       "       0.40816327, 0.42857143, 0.44897959, 0.46938776, 0.48979592,\n",
       "       0.51020408, 0.53061224, 0.55102041, 0.57142857, 0.59183673,\n",
       "       0.6122449 , 0.63265306, 0.65306122, 0.67346939, 0.69387755,\n",
       "       0.71428571, 0.73469388, 0.75510204, 0.7755102 , 0.79591837,\n",
       "       0.81632653, 0.83673469, 0.85714286, 0.87755102, 0.89795918,\n",
       "       0.91836735, 0.93877551, 0.95918367, 0.97959184, 1.        ])>"
      ]
     },
     "execution_count": 23,
     "metadata": {},
     "output_type": "execute_result"
    }
   ],
   "source": []
  },
  {
   "cell_type": "code",
   "execution_count": 24,
   "metadata": {},
   "outputs": [],
   "source": [
    "os.chdir(basedir)\n",
    "\n",
    "data_dict = {'true_u_low_res':true_u_low_res, 'val_true_u_low_res':val_true_u_low_res,\n",
    "             'u_low_res':u_low_res, 'val_u_low_res':val_u_low_res, 'pred_zy': pred_zy, 't': t, 'val_t': val_t, \n",
    "            'x': tf.convert_to_tensor(fdgen.grid(args.args_eval_lf).x_grid_real)}\n",
    "\n",
    "with open(os.path.join('generalized_nCMs/final_paper_scripts/Experiments1b', 'burgers_testcase_nDistDDE_v2_C5f_DBC_Nx50_Re1000_L1.pkl'), 'wb') as output:\n",
    "    pickle.dump(data_dict, output, pickle.HIGHEST_PROTOCOL)"
   ]
  },
  {
   "cell_type": "code",
   "execution_count": null,
   "metadata": {},
   "outputs": [],
   "source": []
  }
 ],
 "metadata": {
  "accelerator": "GPU",
  "colab": {
   "collapsed_sections": [],
   "machine_shape": "hm",
   "name": "neuralODE_Res_AD_Eqn_TestCase.ipynb",
   "provenance": []
  },
  "kernelspec": {
   "display_name": "Python 3",
   "language": "python",
   "name": "python3"
  },
  "language_info": {
   "codemirror_mode": {
    "name": "ipython",
    "version": 3
   },
   "file_extension": ".py",
   "mimetype": "text/x-python",
   "name": "python",
   "nbconvert_exporter": "python",
   "pygments_lexer": "ipython3",
   "version": "3.7.4"
  }
 },
 "nbformat": 4,
 "nbformat_minor": 1
}
