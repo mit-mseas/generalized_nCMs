{
 "cells": [
  {
   "cell_type": "code",
   "execution_count": 1,
   "metadata": {
    "colab": {},
    "colab_type": "code",
    "executionInfo": {
     "elapsed": 787,
     "status": "ok",
     "timestamp": 1599663105288,
     "user": {
      "displayName": "Abhinav Gupta",
      "photoUrl": "https://lh3.googleusercontent.com/a-/AOh14GgMtMT5ccMf8GLgQ3yu6fAY2d6upCEZXfzS-5A6Cg=s64",
      "userId": "02552889854388316189"
     },
     "user_tz": 240
    },
    "id": "h3hhd3d3jH0f"
   },
   "outputs": [],
   "source": [
    "basedir = '/home/abhinavgupta0110/generalized_nCM'\n",
    "\n",
    "import os\n",
    "\n",
    "is_google_colab = False"
   ]
  },
  {
   "cell_type": "markdown",
   "metadata": {
    "colab_type": "text",
    "id": "89oENAJjWO8q"
   },
   "source": [
    "### Mount the Google drive if needed"
   ]
  },
  {
   "cell_type": "code",
   "execution_count": 2,
   "metadata": {
    "colab": {
     "base_uri": "https://localhost:8080/",
     "height": 428
    },
    "colab_type": "code",
    "executionInfo": {
     "elapsed": 33734,
     "status": "ok",
     "timestamp": 1599663142448,
     "user": {
      "displayName": "Abhinav Gupta",
      "photoUrl": "https://lh3.googleusercontent.com/a-/AOh14GgMtMT5ccMf8GLgQ3yu6fAY2d6upCEZXfzS-5A6Cg=s64",
      "userId": "02552889854388316189"
     },
     "user_tz": 240
    },
    "id": "I1wjStEOWR0W",
    "outputId": "ea832cbf-c213-4382-cd44-9b358c108558"
   },
   "outputs": [],
   "source": [
    "if is_google_colab:\n",
    "    from google.colab import drive\n",
    "    drive.mount('/content/drive')\n",
    "    \n",
    "    %pip install quadpy\n",
    "\n",
    "os.chdir(os.path.join(basedir, 'generalized_nCMs'))"
   ]
  },
  {
   "cell_type": "code",
   "execution_count": 3,
   "metadata": {
    "colab": {},
    "colab_type": "code",
    "executionInfo": {
     "elapsed": 10707,
     "status": "ok",
     "timestamp": 1599663156809,
     "user": {
      "displayName": "Abhinav Gupta",
      "photoUrl": "https://lh3.googleusercontent.com/a-/AOh14GgMtMT5ccMf8GLgQ3yu6fAY2d6upCEZXfzS-5A6Cg=s64",
      "userId": "02552889854388316189"
     },
     "user_tz": 240
    },
    "id": "-x-ym6QTclLL"
   },
   "outputs": [],
   "source": [
    "from src.solvers.neuralDistDDE_train_HOTs import history\n",
    "\n",
    "import sys\n",
    "import numpy as np\n",
    "import tensorflow as tf\n",
    "import matplotlib.pyplot as plt"
   ]
  },
  {
   "cell_type": "code",
   "execution_count": 4,
   "metadata": {
    "colab": {},
    "colab_type": "code",
    "executionInfo": {
     "elapsed": 10143,
     "status": "ok",
     "timestamp": 1599663156813,
     "user": {
      "displayName": "Abhinav Gupta",
      "photoUrl": "https://lh3.googleusercontent.com/a-/AOh14GgMtMT5ccMf8GLgQ3yu6fAY2d6upCEZXfzS-5A6Cg=s64",
      "userId": "02552889854388316189"
     },
     "user_tz": 240
    },
    "id": "bf6cwMOji5HN"
   },
   "outputs": [],
   "source": [
    "os.chdir(basedir)"
   ]
  },
  {
   "cell_type": "code",
   "execution_count": 5,
   "metadata": {
    "colab": {},
    "colab_type": "code",
    "executionInfo": {
     "elapsed": 8537,
     "status": "ok",
     "timestamp": 1599663156814,
     "user": {
      "displayName": "Abhinav Gupta",
      "photoUrl": "https://lh3.googleusercontent.com/a-/AOh14GgMtMT5ccMf8GLgQ3yu6fAY2d6upCEZXfzS-5A6Cg=s64",
      "userId": "02552889854388316189"
     },
     "user_tz": 240
    },
    "id": "pA7QPxUya4Yx"
   },
   "outputs": [],
   "source": [
    "save_dir = 'Analysis/Burgers_Eqn_Res/compare_loss'"
   ]
  },
  {
   "cell_type": "code",
   "execution_count": 6,
   "metadata": {
    "colab": {},
    "colab_type": "code",
    "executionInfo": {
     "elapsed": 7863,
     "status": "ok",
     "timestamp": 1599663156815,
     "user": {
      "displayName": "Abhinav Gupta",
      "photoUrl": "https://lh3.googleusercontent.com/a-/AOh14GgMtMT5ccMf8GLgQ3yu6fAY2d6upCEZXfzS-5A6Cg=s64",
      "userId": "02552889854388316189"
     },
     "user_tz": 240
    },
    "id": "rug6aAOrbRUc"
   },
   "outputs": [],
   "source": [
    "if not os.path.exists(save_dir):\n",
    "    os.makedirs(save_dir)"
   ]
  },
  {
   "cell_type": "code",
   "execution_count": 7,
   "metadata": {
    "colab": {},
    "colab_type": "code",
    "executionInfo": {
     "elapsed": 6552,
     "status": "ok",
     "timestamp": 1599663156816,
     "user": {
      "displayName": "Abhinav Gupta",
      "photoUrl": "https://lh3.googleusercontent.com/a-/AOh14GgMtMT5ccMf8GLgQ3yu6fAY2d6upCEZXfzS-5A6Cg=s64",
      "userId": "02552889854388316189"
     },
     "user_tz": 240
    },
    "id": "g0Up-uIib_jG"
   },
   "outputs": [],
   "source": [
    "class args:\n",
    "    def __init__(self, model_dir):\n",
    "        self.model_dir = model_dir"
   ]
  },
  {
   "cell_type": "code",
   "execution_count": 8,
   "metadata": {
    "colab": {},
    "colab_type": "code",
    "executionInfo": {
     "elapsed": 5394,
     "status": "ok",
     "timestamp": 1599663156817,
     "user": {
      "displayName": "Abhinav Gupta",
      "photoUrl": "https://lh3.googleusercontent.com/a-/AOh14GgMtMT5ccMf8GLgQ3yu6fAY2d6upCEZXfzS-5A6Cg=s64",
      "userId": "02552889854388316189"
     },
     "user_tz": 240
    },
    "id": "2mdZ6WAScBJw"
   },
   "outputs": [],
   "source": [
    "class loss_plot:\n",
    "\n",
    "    def __init__(self, figsave_dir):\n",
    "        self.figsave_dir = figsave_dir\n",
    "        self.fig = plt.figure(figsize=(6, 4), facecolor='white')\n",
    "        self.ax = self.fig.add_subplot(111)\n",
    "        self.colors = ['b', 'g', 'r', 'k', 'c', 'm', 'y', 'C0']\n",
    "        self.ax.cla()\n",
    "        self.ax.set_title('Training Loss')\n",
    "        self.ax.set_xlabel('Epoch')\n",
    "        self.ax.set_ylabel('MSE')\n",
    "        self.max_epoch = 1\n",
    "        self.max_loss = 0.0000001\n",
    "        self.min_loss = 100\n",
    "        self.itr = 0\n",
    "\n",
    "    def add_plot_loss(self, model_dir, legend_name):\n",
    "\n",
    "        loss_history = history(args(model_dir))\n",
    "        loss_history.read()\n",
    "        self.max_epoch = max(self.max_epoch, max(loss_history.epoch))\n",
    "        self.max_loss = max(self.max_loss, max(loss_history.train_loss))\n",
    "        self.min_loss = min(self.min_loss, min(loss_history.train_loss))\n",
    "        self.ax.set_xlim(0, self.max_epoch)\n",
    "        self.ax.set_ylim(self.min_loss, self.max_loss)\n",
    "\n",
    "        self.ax.semilogy(loss_history.epoch, loss_history.train_loss, self.colors[self.itr % 8]+'-', label = legend_name)\n",
    "\n",
    "        self.ax.legend(loc='best')\n",
    "        self.itr = self.itr + 1\n",
    "\n",
    "    def save_plot(self, save_str):\n",
    "        self.fig.savefig(os.path.join(self.figsave_dir, save_str))"
   ]
  },
  {
   "cell_type": "code",
   "execution_count": 9,
   "metadata": {
    "colab": {},
    "colab_type": "code",
    "executionInfo": {
     "elapsed": 3960,
     "status": "ok",
     "timestamp": 1599663156818,
     "user": {
      "displayName": "Abhinav Gupta",
      "photoUrl": "https://lh3.googleusercontent.com/a-/AOh14GgMtMT5ccMf8GLgQ3yu6fAY2d6upCEZXfzS-5A6Cg=s64",
      "userId": "02552889854388316189"
     },
     "user_tz": 240
    },
    "id": "3N3-N9m5dWlC"
   },
   "outputs": [],
   "source": [
    "class val_loss_plot:\n",
    "\n",
    "    def __init__(self, figsave_dir):\n",
    "        self.figsave_dir = figsave_dir\n",
    "        self.fig = plt.figure(figsize=(6, 4), facecolor='white')\n",
    "        self.ax = self.fig.add_subplot(111)\n",
    "        self.colors = ['b', 'g', 'r', 'k', 'c', 'm', 'y', 'C0']\n",
    "        self.ax.cla()\n",
    "        self.ax.set_title('Validation Loss')\n",
    "        self.ax.set_xlabel('Epoch')\n",
    "        self.ax.set_ylabel('MSE')\n",
    "        self.max_epoch = 1\n",
    "        self.max_loss = 0.0000001\n",
    "        self.min_loss = 100\n",
    "        self.itr = 0\n",
    "\n",
    "    def add_plot_loss(self, model_dir, legend_name):\n",
    "\n",
    "        loss_history = history(args(model_dir))\n",
    "        loss_history.read()\n",
    "        self.max_epoch = max(self.max_epoch, max(loss_history.epoch))\n",
    "        self.max_loss = max(self.max_loss, max(loss_history.val_loss))\n",
    "        self.min_loss = min(self.min_loss, min(loss_history.val_loss))\n",
    "        self.ax.set_xlim(0, self.max_epoch)\n",
    "        self.ax.set_ylim(self.min_loss, self.max_loss)\n",
    "\n",
    "        self.ax.semilogy(loss_history.epoch, loss_history.val_loss, self.colors[self.itr % 8]+'-', label = legend_name)\n",
    "\n",
    "        self.ax.legend(loc='best')\n",
    "        self.itr = self.itr + 1\n",
    "\n",
    "    def save_plot(self, save_str):\n",
    "        self.fig.savefig(os.path.join(self.figsave_dir, save_str))"
   ]
  },
  {
   "cell_type": "code",
   "execution_count": 10,
   "metadata": {
    "colab": {},
    "colab_type": "code",
    "executionInfo": {
     "elapsed": 2881,
     "status": "ok",
     "timestamp": 1599663156818,
     "user": {
      "displayName": "Abhinav Gupta",
      "photoUrl": "https://lh3.googleusercontent.com/a-/AOh14GgMtMT5ccMf8GLgQ3yu6fAY2d6upCEZXfzS-5A6Cg=s64",
      "userId": "02552889854388316189"
     },
     "user_tz": 240
    },
    "id": "5dHfRS2cbTu_"
   },
   "outputs": [],
   "source": [
    "model_dirs = ['burgers_testcase_nDistDDE_v2/model_dir_case3b', 'burgers_testcase_nDistDDE_v2/model_dir_case5e', \n",
    "             'burgers_testcase_nDistDDE_v2/model_dir_case5ee', 'burgers_testcase_nDistDDE_v2/model_dir_case5ef',\n",
    "             'burgers_testcase_nDistDDE_v2/model_dir_case5f']\n",
    "legend_names = ['C3b', 'C5e', 'C5ee', 'C5ef', 'C5f']"
   ]
  },
  {
   "cell_type": "code",
   "execution_count": 11,
   "metadata": {
    "colab": {
     "base_uri": "https://localhost:8080/",
     "height": 295
    },
    "colab_type": "code",
    "executionInfo": {
     "elapsed": 7616,
     "status": "ok",
     "timestamp": 1599663162691,
     "user": {
      "displayName": "Abhinav Gupta",
      "photoUrl": "https://lh3.googleusercontent.com/a-/AOh14GgMtMT5ccMf8GLgQ3yu6fAY2d6upCEZXfzS-5A6Cg=s64",
      "userId": "02552889854388316189"
     },
     "user_tz": 240
    },
    "id": "Hzmsuqrrf-vN",
    "outputId": "46d977c1-ada8-4b15-86fa-cab7b3efed71"
   },
   "outputs": [
    {
     "data": {
      "image/png": "[encoded data removed]",
      "text/plain": [
       "<Figure size 432x288 with 1 Axes>"
      ]
     },
     "metadata": {},
     "output_type": "display_data"
    }
   ],
   "source": [
    "loss_plot_obj = loss_plot(save_dir)\n",
    "\n",
    "for i in range(len(model_dirs)):\n",
    "    loss_plot_obj.add_plot_loss(model_dirs[i], legend_names[i])\n",
    "\n",
    "plt.show()"
   ]
  },
  {
   "cell_type": "code",
   "execution_count": 12,
   "metadata": {
    "colab": {},
    "colab_type": "code",
    "executionInfo": {
     "elapsed": 7500,
     "status": "ok",
     "timestamp": 1599663163988,
     "user": {
      "displayName": "Abhinav Gupta",
      "photoUrl": "https://lh3.googleusercontent.com/a-/AOh14GgMtMT5ccMf8GLgQ3yu6fAY2d6upCEZXfzS-5A6Cg=s64",
      "userId": "02552889854388316189"
     },
     "user_tz": 240
    },
    "id": "3JmIN1ZUf_94"
   },
   "outputs": [],
   "source": [
    "loss_plot_obj.save_plot('train_loss')"
   ]
  },
  {
   "cell_type": "code",
   "execution_count": 13,
   "metadata": {
    "colab": {
     "base_uri": "https://localhost:8080/",
     "height": 295
    },
    "colab_type": "code",
    "executionInfo": {
     "elapsed": 7229,
     "status": "ok",
     "timestamp": 1599663164405,
     "user": {
      "displayName": "Abhinav Gupta",
      "photoUrl": "https://lh3.googleusercontent.com/a-/AOh14GgMtMT5ccMf8GLgQ3yu6fAY2d6upCEZXfzS-5A6Cg=s64",
      "userId": "02552889854388316189"
     },
     "user_tz": 240
    },
    "id": "MZw_zU0udoGB",
    "outputId": "bb1061e0-bce8-4554-8968-772adaf2643b"
   },
   "outputs": [
    {
     "data": {
      "image/png": "[encoded data removed]",
      "text/plain": [
       "<Figure size 432x288 with 1 Axes>"
      ]
     },
     "metadata": {},
     "output_type": "display_data"
    }
   ],
   "source": [
    "val_loss_plot_obj = val_loss_plot(save_dir)\n",
    "\n",
    "for i in range(len(model_dirs)):\n",
    "    val_loss_plot_obj.add_plot_loss(model_dirs[i], legend_names[i])\n",
    "\n",
    "plt.show()"
   ]
  },
  {
   "cell_type": "code",
   "execution_count": 14,
   "metadata": {
    "colab": {},
    "colab_type": "code",
    "executionInfo": {
     "elapsed": 6097,
     "status": "ok",
     "timestamp": 1599663165165,
     "user": {
      "displayName": "Abhinav Gupta",
      "photoUrl": "https://lh3.googleusercontent.com/a-/AOh14GgMtMT5ccMf8GLgQ3yu6fAY2d6upCEZXfzS-5A6Cg=s64",
      "userId": "02552889854388316189"
     },
     "user_tz": 240
    },
    "id": "gI39SOMxd0-F"
   },
   "outputs": [],
   "source": [
    "val_loss_plot_obj.save_plot('val_loss')"
   ]
  }
 ],
 "metadata": {
  "colab": {
   "authorship_tag": "ABX9TyMJj21duMEIqivFRkoiTRgY",
   "name": "plot_loss_metrics.ipynb",
   "provenance": []
  },
  "kernelspec": {
   "display_name": "Python 3",
   "language": "python",
   "name": "python3"
  },
  "language_info": {
   "codemirror_mode": {
    "name": "ipython",
    "version": 3
   },
   "file_extension": ".py",
   "mimetype": "text/x-python",
   "name": "python",
   "nbconvert_exporter": "python",
   "pygments_lexer": "ipython3",
   "version": "3.7.4"
  }
 },
 "nbformat": 4,
 "nbformat_minor": 1
}
